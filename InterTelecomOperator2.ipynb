{
 "cells": [
  {
   "cell_type": "markdown",
   "id": "eab52f81",
   "metadata": {},
   "source": [
    "# Deskripsi Project"
   ]
  },
  {
   "cell_type": "markdown",
   "id": "cf857f30",
   "metadata": {},
   "source": [
    "Operator telekomunikasi Interkoneksi ingin dapat memperkirakan perpindahan klien mereka. Jika diketahui bahwa pengguna berencana keluar, mereka akan ditawari kode promosi dan opsi paket khusus. Tim pemasaran Interkoneksi telah mengumpulkan beberapa data pribadi klien mereka, termasuk informasi tentang rencana dan kontrak mereka."
   ]
  },
  {
   "cell_type": "markdown",
   "id": "3a91a6b3",
   "metadata": {},
   "source": [
    "# Tujuan "
   ]
  },
  {
   "cell_type": "markdown",
   "id": "e3853777",
   "metadata": {},
   "source": [
    "Adapun tujuan yang ingin dicapai diantaranya:\n",
    "1. Memprediksi klien mana yang ingin berencana untuk keluar.\n",
    "2. Membandingkan distribusi pembayaran bulanan seluruh klien aktif dengan klien yang sudah keluar.\n",
    "3. Membandingkan prilaku klien pengguna telepon dan pengguna internet"
   ]
  },
  {
   "cell_type": "markdown",
   "id": "e941c941",
   "metadata": {},
   "source": [
    "# Deskripsi Data"
   ]
  },
  {
   "cell_type": "markdown",
   "id": "8b501716",
   "metadata": {},
   "source": [
    "Data terdiri dari file yang diperoleh dari berbagai sumber:\n",
    "- `phone.csv` — informasi tentang layanan telepon\n",
    "- `internet.csv` — informasi tentang layanan Internet\n",
    "- `contract.csv` — informasi kontrak\n",
    "- `personal.csv` — data pribadi klien\n",
    " \n",
    "Di setiap file, kolom `customerID` berisi kode unik yang ditetapkan untuk setiap klien.\n",
    "Informasi kontrak berlaku per 1 Februari 2020.\n"
   ]
  },
  {
   "cell_type": "markdown",
   "id": "46531ff1",
   "metadata": {},
   "source": [
    "## Tahapan"
   ]
  },
  {
   "cell_type": "markdown",
   "id": "b82ed021",
   "metadata": {},
   "source": [
    "- Tahap 1. Import Library\n",
    "- Tahap 2. Import File\n",
    "- Tahap 3. Checking Data \n",
    "- Tahap 4. Eksplorasi Data \n"
   ]
  },
  {
   "cell_type": "markdown",
   "id": "8609c429",
   "metadata": {},
   "source": [
    "# Tahap 1. Imprort Library"
   ]
  },
  {
   "cell_type": "markdown",
   "id": "0ebc5b0c",
   "metadata": {},
   "source": [
    "Import library yang dibutuhkan"
   ]
  },
  {
   "cell_type": "code",
   "execution_count": 1,
   "id": "23ca6ccd",
   "metadata": {},
   "outputs": [],
   "source": [
    "import pandas as pd\n",
    "import numpy as np\n",
    "\n",
    "import matplotlib.pyplot as plt\n",
    "import seaborn as sns"
   ]
  },
  {
   "cell_type": "markdown",
   "id": "4c45b594",
   "metadata": {},
   "source": [
    "# Tahap 2. Import File "
   ]
  },
  {
   "cell_type": "markdown",
   "id": "d9c0bf9c",
   "metadata": {},
   "source": [
    "Untuk mempermudah mengimport file mari gunakan sebuah fungsi"
   ]
  },
  {
   "cell_type": "code",
   "execution_count": 2,
   "id": "725e049e",
   "metadata": {},
   "outputs": [],
   "source": [
    "p1 = '/datasets/final_provider/phone.csv'\n",
    "p2 = '/datasets/final_provider/internet.csv'\n",
    "p3 = '/datasets/final_provider/contract.csv'\n",
    "p4 = '/datasets/final_provider/personal.csv'"
   ]
  },
  {
   "cell_type": "code",
   "execution_count": 3,
   "id": "39cb1a01",
   "metadata": {},
   "outputs": [],
   "source": [
    "def load_file(path):\n",
    "    data=pd.read_csv(path)\n",
    "    return data"
   ]
  },
  {
   "cell_type": "code",
   "execution_count": 4,
   "id": "b95322ba",
   "metadata": {},
   "outputs": [
    {
     "data": {
      "text/html": [
       "<div>\n",
       "<style scoped>\n",
       "    .dataframe tbody tr th:only-of-type {\n",
       "        vertical-align: middle;\n",
       "    }\n",
       "\n",
       "    .dataframe tbody tr th {\n",
       "        vertical-align: top;\n",
       "    }\n",
       "\n",
       "    .dataframe thead th {\n",
       "        text-align: right;\n",
       "    }\n",
       "</style>\n",
       "<table border=\"1\" class=\"dataframe\">\n",
       "  <thead>\n",
       "    <tr style=\"text-align: right;\">\n",
       "      <th></th>\n",
       "      <th>customerID</th>\n",
       "      <th>MultipleLines</th>\n",
       "    </tr>\n",
       "  </thead>\n",
       "  <tbody>\n",
       "    <tr>\n",
       "      <th>184</th>\n",
       "      <td>9142-KZXOP</td>\n",
       "      <td>No</td>\n",
       "    </tr>\n",
       "    <tr>\n",
       "      <th>6000</th>\n",
       "      <td>9259-PACGQ</td>\n",
       "      <td>Yes</td>\n",
       "    </tr>\n",
       "    <tr>\n",
       "      <th>2026</th>\n",
       "      <td>8337-MSSXB</td>\n",
       "      <td>No</td>\n",
       "    </tr>\n",
       "    <tr>\n",
       "      <th>5474</th>\n",
       "      <td>8008-ESFLK</td>\n",
       "      <td>No</td>\n",
       "    </tr>\n",
       "    <tr>\n",
       "      <th>4455</th>\n",
       "      <td>5092-STPKP</td>\n",
       "      <td>No</td>\n",
       "    </tr>\n",
       "  </tbody>\n",
       "</table>\n",
       "</div>"
      ],
      "text/plain": [
       "      customerID MultipleLines\n",
       "184   9142-KZXOP            No\n",
       "6000  9259-PACGQ           Yes\n",
       "2026  8337-MSSXB            No\n",
       "5474  8008-ESFLK            No\n",
       "4455  5092-STPKP            No"
      ]
     },
     "execution_count": 4,
     "metadata": {},
     "output_type": "execute_result"
    }
   ],
   "source": [
    "phone = load_file(p1)\n",
    "phone.sample(5)"
   ]
  },
  {
   "cell_type": "code",
   "execution_count": 5,
   "id": "d2336a24",
   "metadata": {},
   "outputs": [
    {
     "data": {
      "text/html": [
       "<div>\n",
       "<style scoped>\n",
       "    .dataframe tbody tr th:only-of-type {\n",
       "        vertical-align: middle;\n",
       "    }\n",
       "\n",
       "    .dataframe tbody tr th {\n",
       "        vertical-align: top;\n",
       "    }\n",
       "\n",
       "    .dataframe thead th {\n",
       "        text-align: right;\n",
       "    }\n",
       "</style>\n",
       "<table border=\"1\" class=\"dataframe\">\n",
       "  <thead>\n",
       "    <tr style=\"text-align: right;\">\n",
       "      <th></th>\n",
       "      <th>customerID</th>\n",
       "      <th>InternetService</th>\n",
       "      <th>OnlineSecurity</th>\n",
       "      <th>OnlineBackup</th>\n",
       "      <th>DeviceProtection</th>\n",
       "      <th>TechSupport</th>\n",
       "      <th>StreamingTV</th>\n",
       "      <th>StreamingMovies</th>\n",
       "    </tr>\n",
       "  </thead>\n",
       "  <tbody>\n",
       "    <tr>\n",
       "      <th>5457</th>\n",
       "      <td>1904-WAJAA</td>\n",
       "      <td>DSL</td>\n",
       "      <td>Yes</td>\n",
       "      <td>Yes</td>\n",
       "      <td>Yes</td>\n",
       "      <td>No</td>\n",
       "      <td>No</td>\n",
       "      <td>No</td>\n",
       "    </tr>\n",
       "    <tr>\n",
       "      <th>1061</th>\n",
       "      <td>0661-WCQNQ</td>\n",
       "      <td>DSL</td>\n",
       "      <td>Yes</td>\n",
       "      <td>No</td>\n",
       "      <td>No</td>\n",
       "      <td>Yes</td>\n",
       "      <td>No</td>\n",
       "      <td>No</td>\n",
       "    </tr>\n",
       "    <tr>\n",
       "      <th>976</th>\n",
       "      <td>9091-WTUUY</td>\n",
       "      <td>DSL</td>\n",
       "      <td>Yes</td>\n",
       "      <td>No</td>\n",
       "      <td>Yes</td>\n",
       "      <td>Yes</td>\n",
       "      <td>Yes</td>\n",
       "      <td>No</td>\n",
       "    </tr>\n",
       "    <tr>\n",
       "      <th>1723</th>\n",
       "      <td>3988-RQIXO</td>\n",
       "      <td>Fiber optic</td>\n",
       "      <td>No</td>\n",
       "      <td>No</td>\n",
       "      <td>No</td>\n",
       "      <td>No</td>\n",
       "      <td>Yes</td>\n",
       "      <td>Yes</td>\n",
       "    </tr>\n",
       "    <tr>\n",
       "      <th>664</th>\n",
       "      <td>5337-IIWKZ</td>\n",
       "      <td>DSL</td>\n",
       "      <td>No</td>\n",
       "      <td>No</td>\n",
       "      <td>Yes</td>\n",
       "      <td>Yes</td>\n",
       "      <td>Yes</td>\n",
       "      <td>No</td>\n",
       "    </tr>\n",
       "  </tbody>\n",
       "</table>\n",
       "</div>"
      ],
      "text/plain": [
       "      customerID InternetService OnlineSecurity OnlineBackup DeviceProtection  \\\n",
       "5457  1904-WAJAA             DSL            Yes          Yes              Yes   \n",
       "1061  0661-WCQNQ             DSL            Yes           No               No   \n",
       "976   9091-WTUUY             DSL            Yes           No              Yes   \n",
       "1723  3988-RQIXO     Fiber optic             No           No               No   \n",
       "664   5337-IIWKZ             DSL             No           No              Yes   \n",
       "\n",
       "     TechSupport StreamingTV StreamingMovies  \n",
       "5457          No          No              No  \n",
       "1061         Yes          No              No  \n",
       "976          Yes         Yes              No  \n",
       "1723          No         Yes             Yes  \n",
       "664          Yes         Yes              No  "
      ]
     },
     "execution_count": 5,
     "metadata": {},
     "output_type": "execute_result"
    }
   ],
   "source": [
    "internet = load_file(p2)\n",
    "internet.sample(5)"
   ]
  },
  {
   "cell_type": "code",
   "execution_count": 6,
   "id": "a6242c78",
   "metadata": {},
   "outputs": [
    {
     "data": {
      "text/html": [
       "<div>\n",
       "<style scoped>\n",
       "    .dataframe tbody tr th:only-of-type {\n",
       "        vertical-align: middle;\n",
       "    }\n",
       "\n",
       "    .dataframe tbody tr th {\n",
       "        vertical-align: top;\n",
       "    }\n",
       "\n",
       "    .dataframe thead th {\n",
       "        text-align: right;\n",
       "    }\n",
       "</style>\n",
       "<table border=\"1\" class=\"dataframe\">\n",
       "  <thead>\n",
       "    <tr style=\"text-align: right;\">\n",
       "      <th></th>\n",
       "      <th>customerID</th>\n",
       "      <th>BeginDate</th>\n",
       "      <th>EndDate</th>\n",
       "      <th>Type</th>\n",
       "      <th>PaperlessBilling</th>\n",
       "      <th>PaymentMethod</th>\n",
       "      <th>MonthlyCharges</th>\n",
       "      <th>TotalCharges</th>\n",
       "    </tr>\n",
       "  </thead>\n",
       "  <tbody>\n",
       "    <tr>\n",
       "      <th>694</th>\n",
       "      <td>2682-KEVRP</td>\n",
       "      <td>2018-04-01</td>\n",
       "      <td>No</td>\n",
       "      <td>One year</td>\n",
       "      <td>Yes</td>\n",
       "      <td>Mailed check</td>\n",
       "      <td>20.05</td>\n",
       "      <td>417</td>\n",
       "    </tr>\n",
       "    <tr>\n",
       "      <th>6814</th>\n",
       "      <td>2267-WTPYD</td>\n",
       "      <td>2015-05-01</td>\n",
       "      <td>No</td>\n",
       "      <td>Month-to-month</td>\n",
       "      <td>No</td>\n",
       "      <td>Credit card (automatic)</td>\n",
       "      <td>94.00</td>\n",
       "      <td>5438.95</td>\n",
       "    </tr>\n",
       "    <tr>\n",
       "      <th>4953</th>\n",
       "      <td>1627-AFWVJ</td>\n",
       "      <td>2017-09-01</td>\n",
       "      <td>No</td>\n",
       "      <td>Two year</td>\n",
       "      <td>No</td>\n",
       "      <td>Mailed check</td>\n",
       "      <td>19.40</td>\n",
       "      <td>554.25</td>\n",
       "    </tr>\n",
       "    <tr>\n",
       "      <th>5551</th>\n",
       "      <td>8457-XIGKN</td>\n",
       "      <td>2018-06-01</td>\n",
       "      <td>No</td>\n",
       "      <td>Month-to-month</td>\n",
       "      <td>Yes</td>\n",
       "      <td>Credit card (automatic)</td>\n",
       "      <td>19.60</td>\n",
       "      <td>356.15</td>\n",
       "    </tr>\n",
       "    <tr>\n",
       "      <th>6476</th>\n",
       "      <td>1177-XZBJL</td>\n",
       "      <td>2015-09-01</td>\n",
       "      <td>No</td>\n",
       "      <td>One year</td>\n",
       "      <td>No</td>\n",
       "      <td>Bank transfer (automatic)</td>\n",
       "      <td>64.15</td>\n",
       "      <td>3491.55</td>\n",
       "    </tr>\n",
       "  </tbody>\n",
       "</table>\n",
       "</div>"
      ],
      "text/plain": [
       "      customerID   BeginDate EndDate            Type PaperlessBilling  \\\n",
       "694   2682-KEVRP  2018-04-01      No        One year              Yes   \n",
       "6814  2267-WTPYD  2015-05-01      No  Month-to-month               No   \n",
       "4953  1627-AFWVJ  2017-09-01      No        Two year               No   \n",
       "5551  8457-XIGKN  2018-06-01      No  Month-to-month              Yes   \n",
       "6476  1177-XZBJL  2015-09-01      No        One year               No   \n",
       "\n",
       "                  PaymentMethod  MonthlyCharges TotalCharges  \n",
       "694                Mailed check           20.05          417  \n",
       "6814    Credit card (automatic)           94.00      5438.95  \n",
       "4953               Mailed check           19.40       554.25  \n",
       "5551    Credit card (automatic)           19.60       356.15  \n",
       "6476  Bank transfer (automatic)           64.15      3491.55  "
      ]
     },
     "execution_count": 6,
     "metadata": {},
     "output_type": "execute_result"
    }
   ],
   "source": [
    "contract = load_file(p3)\n",
    "contract.sample(5)"
   ]
  },
  {
   "cell_type": "code",
   "execution_count": 7,
   "id": "fe9ffaae",
   "metadata": {},
   "outputs": [
    {
     "data": {
      "text/html": [
       "<div>\n",
       "<style scoped>\n",
       "    .dataframe tbody tr th:only-of-type {\n",
       "        vertical-align: middle;\n",
       "    }\n",
       "\n",
       "    .dataframe tbody tr th {\n",
       "        vertical-align: top;\n",
       "    }\n",
       "\n",
       "    .dataframe thead th {\n",
       "        text-align: right;\n",
       "    }\n",
       "</style>\n",
       "<table border=\"1\" class=\"dataframe\">\n",
       "  <thead>\n",
       "    <tr style=\"text-align: right;\">\n",
       "      <th></th>\n",
       "      <th>customerID</th>\n",
       "      <th>gender</th>\n",
       "      <th>SeniorCitizen</th>\n",
       "      <th>Partner</th>\n",
       "      <th>Dependents</th>\n",
       "    </tr>\n",
       "  </thead>\n",
       "  <tbody>\n",
       "    <tr>\n",
       "      <th>4456</th>\n",
       "      <td>1619-YWUBB</td>\n",
       "      <td>Female</td>\n",
       "      <td>0</td>\n",
       "      <td>Yes</td>\n",
       "      <td>No</td>\n",
       "    </tr>\n",
       "    <tr>\n",
       "      <th>3585</th>\n",
       "      <td>5913-INRQV</td>\n",
       "      <td>Male</td>\n",
       "      <td>1</td>\n",
       "      <td>Yes</td>\n",
       "      <td>No</td>\n",
       "    </tr>\n",
       "    <tr>\n",
       "      <th>3473</th>\n",
       "      <td>7599-FKVXZ</td>\n",
       "      <td>Male</td>\n",
       "      <td>0</td>\n",
       "      <td>Yes</td>\n",
       "      <td>No</td>\n",
       "    </tr>\n",
       "    <tr>\n",
       "      <th>6309</th>\n",
       "      <td>2169-RRLFW</td>\n",
       "      <td>Female</td>\n",
       "      <td>0</td>\n",
       "      <td>Yes</td>\n",
       "      <td>No</td>\n",
       "    </tr>\n",
       "    <tr>\n",
       "      <th>5887</th>\n",
       "      <td>4316-XCSLJ</td>\n",
       "      <td>Male</td>\n",
       "      <td>0</td>\n",
       "      <td>No</td>\n",
       "      <td>Yes</td>\n",
       "    </tr>\n",
       "  </tbody>\n",
       "</table>\n",
       "</div>"
      ],
      "text/plain": [
       "      customerID  gender  SeniorCitizen Partner Dependents\n",
       "4456  1619-YWUBB  Female              0     Yes         No\n",
       "3585  5913-INRQV    Male              1     Yes         No\n",
       "3473  7599-FKVXZ    Male              0     Yes         No\n",
       "6309  2169-RRLFW  Female              0     Yes         No\n",
       "5887  4316-XCSLJ    Male              0      No        Yes"
      ]
     },
     "execution_count": 7,
     "metadata": {},
     "output_type": "execute_result"
    }
   ],
   "source": [
    "personal = load_file(p4)\n",
    "personal.sample(5)"
   ]
  },
  {
   "cell_type": "markdown",
   "id": "3b42b140",
   "metadata": {},
   "source": [
    "# Tahap 3. Checking Data"
   ]
  },
  {
   "cell_type": "code",
   "execution_count": 8,
   "id": "2ac3f61a",
   "metadata": {},
   "outputs": [],
   "source": [
    "def check_data(data):\n",
    "    print(data.head())\n",
    "    print()\n",
    "    print(data.info())\n",
    "    print()\n",
    "    print(f'Missing Value :\\n{data.isna().sum()}')\n",
    "    print()\n",
    "    print(f'Duplicated :\\n{data.duplicated().sum()}')\n",
    "    \n"
   ]
  },
  {
   "cell_type": "markdown",
   "id": "3c781ba5",
   "metadata": {},
   "source": [
    "## Checking Data_1"
   ]
  },
  {
   "cell_type": "code",
   "execution_count": 9,
   "id": "d5fb116f",
   "metadata": {},
   "outputs": [
    {
     "name": "stdout",
     "output_type": "stream",
     "text": [
      "   customerID MultipleLines\n",
      "0  5575-GNVDE            No\n",
      "1  3668-QPYBK            No\n",
      "2  9237-HQITU            No\n",
      "3  9305-CDSKC           Yes\n",
      "4  1452-KIOVK           Yes\n",
      "\n",
      "<class 'pandas.core.frame.DataFrame'>\n",
      "RangeIndex: 6361 entries, 0 to 6360\n",
      "Data columns (total 2 columns):\n",
      " #   Column         Non-Null Count  Dtype \n",
      "---  ------         --------------  ----- \n",
      " 0   customerID     6361 non-null   object\n",
      " 1   MultipleLines  6361 non-null   object\n",
      "dtypes: object(2)\n",
      "memory usage: 99.5+ KB\n",
      "None\n",
      "\n",
      "Missing Value :\n",
      "customerID       0\n",
      "MultipleLines    0\n",
      "dtype: int64\n",
      "\n",
      "Duplicated :\n",
      "0\n"
     ]
    }
   ],
   "source": [
    "check_data(phone)"
   ]
  },
  {
   "cell_type": "markdown",
   "id": "a145ec7e",
   "metadata": {},
   "source": [
    "**Catatan**\n",
    "\n",
    "Ada beberapa catatan:\n",
    "\n",
    "1. Pada phone menyimpan data informasi tentang layanan telepon\n",
    "2. Tidak terdapat missing value\n",
    "3. Tidak terdapat duplikasi\n",
    "4. Ukuran data : 6361 entries, 2 columns"
   ]
  },
  {
   "cell_type": "markdown",
   "id": "89dad2e4",
   "metadata": {},
   "source": [
    "## Checking Data_2"
   ]
  },
  {
   "cell_type": "code",
   "execution_count": 10,
   "id": "6a7fd250",
   "metadata": {},
   "outputs": [
    {
     "name": "stdout",
     "output_type": "stream",
     "text": [
      "   customerID InternetService OnlineSecurity OnlineBackup DeviceProtection  \\\n",
      "0  7590-VHVEG             DSL             No          Yes               No   \n",
      "1  5575-GNVDE             DSL            Yes           No              Yes   \n",
      "2  3668-QPYBK             DSL            Yes          Yes               No   \n",
      "3  7795-CFOCW             DSL            Yes           No              Yes   \n",
      "4  9237-HQITU     Fiber optic             No           No               No   \n",
      "\n",
      "  TechSupport StreamingTV StreamingMovies  \n",
      "0          No          No              No  \n",
      "1          No          No              No  \n",
      "2          No          No              No  \n",
      "3         Yes          No              No  \n",
      "4          No          No              No  \n",
      "\n",
      "<class 'pandas.core.frame.DataFrame'>\n",
      "RangeIndex: 5517 entries, 0 to 5516\n",
      "Data columns (total 8 columns):\n",
      " #   Column            Non-Null Count  Dtype \n",
      "---  ------            --------------  ----- \n",
      " 0   customerID        5517 non-null   object\n",
      " 1   InternetService   5517 non-null   object\n",
      " 2   OnlineSecurity    5517 non-null   object\n",
      " 3   OnlineBackup      5517 non-null   object\n",
      " 4   DeviceProtection  5517 non-null   object\n",
      " 5   TechSupport       5517 non-null   object\n",
      " 6   StreamingTV       5517 non-null   object\n",
      " 7   StreamingMovies   5517 non-null   object\n",
      "dtypes: object(8)\n",
      "memory usage: 344.9+ KB\n",
      "None\n",
      "\n",
      "Missing Value :\n",
      "customerID          0\n",
      "InternetService     0\n",
      "OnlineSecurity      0\n",
      "OnlineBackup        0\n",
      "DeviceProtection    0\n",
      "TechSupport         0\n",
      "StreamingTV         0\n",
      "StreamingMovies     0\n",
      "dtype: int64\n",
      "\n",
      "Duplicated :\n",
      "0\n"
     ]
    }
   ],
   "source": [
    "check_data(internet)"
   ]
  },
  {
   "cell_type": "markdown",
   "id": "dcb1e729",
   "metadata": {},
   "source": [
    "**Catatan**\n",
    "\n",
    "Ada beberapa catatan:\n",
    "\n",
    "1. Pada internet menyimpan data informasi tentang layanan Internet\n",
    "2. Tidak terdapat missing value\n",
    "3. Tidak terdapat duplikasi\n",
    "4. Ukuran data : 5517 entries, 8 columns"
   ]
  },
  {
   "cell_type": "code",
   "execution_count": 11,
   "id": "e942413b",
   "metadata": {},
   "outputs": [
    {
     "name": "stdout",
     "output_type": "stream",
     "text": [
      "   customerID   BeginDate              EndDate            Type  \\\n",
      "0  7590-VHVEG  2020-01-01                   No  Month-to-month   \n",
      "1  5575-GNVDE  2017-04-01                   No        One year   \n",
      "2  3668-QPYBK  2019-10-01  2019-12-01 00:00:00  Month-to-month   \n",
      "3  7795-CFOCW  2016-05-01                   No        One year   \n",
      "4  9237-HQITU  2019-09-01  2019-11-01 00:00:00  Month-to-month   \n",
      "\n",
      "  PaperlessBilling              PaymentMethod  MonthlyCharges TotalCharges  \n",
      "0              Yes           Electronic check           29.85        29.85  \n",
      "1               No               Mailed check           56.95       1889.5  \n",
      "2              Yes               Mailed check           53.85       108.15  \n",
      "3               No  Bank transfer (automatic)           42.30      1840.75  \n",
      "4              Yes           Electronic check           70.70       151.65  \n",
      "\n",
      "<class 'pandas.core.frame.DataFrame'>\n",
      "RangeIndex: 7043 entries, 0 to 7042\n",
      "Data columns (total 8 columns):\n",
      " #   Column            Non-Null Count  Dtype  \n",
      "---  ------            --------------  -----  \n",
      " 0   customerID        7043 non-null   object \n",
      " 1   BeginDate         7043 non-null   object \n",
      " 2   EndDate           7043 non-null   object \n",
      " 3   Type              7043 non-null   object \n",
      " 4   PaperlessBilling  7043 non-null   object \n",
      " 5   PaymentMethod     7043 non-null   object \n",
      " 6   MonthlyCharges    7043 non-null   float64\n",
      " 7   TotalCharges      7043 non-null   object \n",
      "dtypes: float64(1), object(7)\n",
      "memory usage: 440.3+ KB\n",
      "None\n",
      "\n",
      "Missing Value :\n",
      "customerID          0\n",
      "BeginDate           0\n",
      "EndDate             0\n",
      "Type                0\n",
      "PaperlessBilling    0\n",
      "PaymentMethod       0\n",
      "MonthlyCharges      0\n",
      "TotalCharges        0\n",
      "dtype: int64\n",
      "\n",
      "Duplicated :\n",
      "0\n"
     ]
    }
   ],
   "source": [
    "check_data(contract)"
   ]
  },
  {
   "cell_type": "markdown",
   "id": "5540ebaa",
   "metadata": {},
   "source": [
    "**Catatan**\n",
    "\n",
    "Ada beberapa catatan:\n",
    "\n",
    "1. Pada contract menyimpan data tentang informasi kontrak.\n",
    "2. Tidak terdapat missing value.\n",
    "3. Tidak terdapat duplikasi\n",
    "4. Ukuran data : 7043 entries, 8 columns\n",
    "5. Kolom `BeginDate` dan `EndDate` tipe datanya object (dapat dirubah ke datetime).\n",
    "6. Kolom `TotalCharges` tipe datanya object (dapat dirubah ke float)."
   ]
  },
  {
   "cell_type": "code",
   "execution_count": 12,
   "id": "afe26cb2",
   "metadata": {},
   "outputs": [
    {
     "name": "stdout",
     "output_type": "stream",
     "text": [
      "   customerID  gender  SeniorCitizen Partner Dependents\n",
      "0  7590-VHVEG  Female              0     Yes         No\n",
      "1  5575-GNVDE    Male              0      No         No\n",
      "2  3668-QPYBK    Male              0      No         No\n",
      "3  7795-CFOCW    Male              0      No         No\n",
      "4  9237-HQITU  Female              0      No         No\n",
      "\n",
      "<class 'pandas.core.frame.DataFrame'>\n",
      "RangeIndex: 7043 entries, 0 to 7042\n",
      "Data columns (total 5 columns):\n",
      " #   Column         Non-Null Count  Dtype \n",
      "---  ------         --------------  ----- \n",
      " 0   customerID     7043 non-null   object\n",
      " 1   gender         7043 non-null   object\n",
      " 2   SeniorCitizen  7043 non-null   int64 \n",
      " 3   Partner        7043 non-null   object\n",
      " 4   Dependents     7043 non-null   object\n",
      "dtypes: int64(1), object(4)\n",
      "memory usage: 275.2+ KB\n",
      "None\n",
      "\n",
      "Missing Value :\n",
      "customerID       0\n",
      "gender           0\n",
      "SeniorCitizen    0\n",
      "Partner          0\n",
      "Dependents       0\n",
      "dtype: int64\n",
      "\n",
      "Duplicated :\n",
      "0\n"
     ]
    }
   ],
   "source": [
    "check_data(personal)"
   ]
  },
  {
   "cell_type": "markdown",
   "id": "a92c3e89",
   "metadata": {},
   "source": [
    "**Catatan**\n",
    "\n",
    "Ada beberapa catatan:\n",
    "\n",
    "1. Pada personal menyimpan data pribadi klien\n",
    "2. Tidak terdapat missing value\n",
    "3. Tidak terdapat duplikasi\n",
    "4. Ukuran data : 7043 entries, 5 columns"
   ]
  },
  {
   "cell_type": "markdown",
   "id": "bd75776d",
   "metadata": {},
   "source": [
    "# Tahap 4. Ekplorasi Data"
   ]
  },
  {
   "cell_type": "markdown",
   "id": "21c40e32",
   "metadata": {},
   "source": [
    "**1. Data1 - phone**\n",
    "\n",
    "Sesuai dengan catatan sebelumnya, mari tampilkan isi dari variable phone"
   ]
  },
  {
   "cell_type": "code",
   "execution_count": 13,
   "id": "538ffc22",
   "metadata": {},
   "outputs": [
    {
     "data": {
      "text/html": [
       "<div>\n",
       "<style scoped>\n",
       "    .dataframe tbody tr th:only-of-type {\n",
       "        vertical-align: middle;\n",
       "    }\n",
       "\n",
       "    .dataframe tbody tr th {\n",
       "        vertical-align: top;\n",
       "    }\n",
       "\n",
       "    .dataframe thead th {\n",
       "        text-align: right;\n",
       "    }\n",
       "</style>\n",
       "<table border=\"1\" class=\"dataframe\">\n",
       "  <thead>\n",
       "    <tr style=\"text-align: right;\">\n",
       "      <th></th>\n",
       "      <th>customerID</th>\n",
       "      <th>MultipleLines</th>\n",
       "    </tr>\n",
       "  </thead>\n",
       "  <tbody>\n",
       "    <tr>\n",
       "      <th>1478</th>\n",
       "      <td>6035-RIIOM</td>\n",
       "      <td>Yes</td>\n",
       "    </tr>\n",
       "    <tr>\n",
       "      <th>4985</th>\n",
       "      <td>2696-NARTR</td>\n",
       "      <td>No</td>\n",
       "    </tr>\n",
       "    <tr>\n",
       "      <th>5215</th>\n",
       "      <td>4817-QRJSX</td>\n",
       "      <td>Yes</td>\n",
       "    </tr>\n",
       "    <tr>\n",
       "      <th>1995</th>\n",
       "      <td>2530-FMFXO</td>\n",
       "      <td>Yes</td>\n",
       "    </tr>\n",
       "    <tr>\n",
       "      <th>3520</th>\n",
       "      <td>5701-SVCWR</td>\n",
       "      <td>Yes</td>\n",
       "    </tr>\n",
       "  </tbody>\n",
       "</table>\n",
       "</div>"
      ],
      "text/plain": [
       "      customerID MultipleLines\n",
       "1478  6035-RIIOM           Yes\n",
       "4985  2696-NARTR            No\n",
       "5215  4817-QRJSX           Yes\n",
       "1995  2530-FMFXO           Yes\n",
       "3520  5701-SVCWR           Yes"
      ]
     },
     "execution_count": 13,
     "metadata": {},
     "output_type": "execute_result"
    }
   ],
   "source": [
    "phone.sample(5)"
   ]
  },
  {
   "cell_type": "code",
   "execution_count": 14,
   "id": "3053e057",
   "metadata": {},
   "outputs": [
    {
     "name": "stdout",
     "output_type": "stream",
     "text": [
      "Banyaknya Custstomer: 6361\n"
     ]
    }
   ],
   "source": [
    "print('Banyaknya Custstomer:', phone['customerID'].nunique())"
   ]
  },
  {
   "cell_type": "code",
   "execution_count": 15,
   "id": "77785490",
   "metadata": {},
   "outputs": [
    {
     "data": {
      "text/plain": [
       "No     3390\n",
       "Yes    2971\n",
       "Name: MultipleLines, dtype: int64"
      ]
     },
     "execution_count": 15,
     "metadata": {},
     "output_type": "execute_result"
    }
   ],
   "source": [
    "phone['MultipleLines'].value_counts()\n"
   ]
  },
  {
   "cell_type": "code",
   "execution_count": 16,
   "id": "d0b37892",
   "metadata": {},
   "outputs": [
    {
     "data": {
      "image/png": "[encoded data removed]",
      "text/plain": [
       "<Figure size 640x480 with 1 Axes>"
      ]
     },
     "metadata": {},
     "output_type": "display_data"
    }
   ],
   "source": [
    "plt.bar(phone['MultipleLines'].value_counts().index, phone['MultipleLines'].value_counts().values)\n",
    "plt.xlabel('MultipleLines')\n",
    "plt.ylabel('Count')\n",
    "plt.title('Multiple Lines Counts')\n",
    "plt.show()"
   ]
  },
  {
   "cell_type": "markdown",
   "id": "b9ea1a88",
   "metadata": {},
   "source": [
    "**Temuan**\n",
    "\n",
    "1. Terdapat 6361 customer yang ada pada data ini.\n",
    "1. Data tentang layanan telepon memuat 3390 orang yang memakai multiple line sebagai layanan yang dipilih.\n",
    "2. Data tentang layanan telepon memuat 2971 orang yang tidak memakai multiple line sebagai layanan yang dipilih."
   ]
  },
  {
   "cell_type": "markdown",
   "id": "b8d468fa",
   "metadata": {},
   "source": [
    "**2. Data2 - Internet**\n",
    "\n",
    "Sesuai dengan catatan sebelumnya pada data ini, mari tampilkan datanya "
   ]
  },
  {
   "cell_type": "code",
   "execution_count": 17,
   "id": "9f74c358",
   "metadata": {},
   "outputs": [
    {
     "data": {
      "text/html": [
       "<div>\n",
       "<style scoped>\n",
       "    .dataframe tbody tr th:only-of-type {\n",
       "        vertical-align: middle;\n",
       "    }\n",
       "\n",
       "    .dataframe tbody tr th {\n",
       "        vertical-align: top;\n",
       "    }\n",
       "\n",
       "    .dataframe thead th {\n",
       "        text-align: right;\n",
       "    }\n",
       "</style>\n",
       "<table border=\"1\" class=\"dataframe\">\n",
       "  <thead>\n",
       "    <tr style=\"text-align: right;\">\n",
       "      <th></th>\n",
       "      <th>customerID</th>\n",
       "      <th>InternetService</th>\n",
       "      <th>OnlineSecurity</th>\n",
       "      <th>OnlineBackup</th>\n",
       "      <th>DeviceProtection</th>\n",
       "      <th>TechSupport</th>\n",
       "      <th>StreamingTV</th>\n",
       "      <th>StreamingMovies</th>\n",
       "    </tr>\n",
       "  </thead>\n",
       "  <tbody>\n",
       "    <tr>\n",
       "      <th>5109</th>\n",
       "      <td>3439-GVUSX</td>\n",
       "      <td>DSL</td>\n",
       "      <td>No</td>\n",
       "      <td>No</td>\n",
       "      <td>No</td>\n",
       "      <td>No</td>\n",
       "      <td>No</td>\n",
       "      <td>No</td>\n",
       "    </tr>\n",
       "    <tr>\n",
       "      <th>1823</th>\n",
       "      <td>4967-WPNCF</td>\n",
       "      <td>DSL</td>\n",
       "      <td>Yes</td>\n",
       "      <td>Yes</td>\n",
       "      <td>Yes</td>\n",
       "      <td>Yes</td>\n",
       "      <td>Yes</td>\n",
       "      <td>Yes</td>\n",
       "    </tr>\n",
       "    <tr>\n",
       "      <th>3650</th>\n",
       "      <td>8218-FFJDS</td>\n",
       "      <td>DSL</td>\n",
       "      <td>Yes</td>\n",
       "      <td>Yes</td>\n",
       "      <td>No</td>\n",
       "      <td>Yes</td>\n",
       "      <td>Yes</td>\n",
       "      <td>Yes</td>\n",
       "    </tr>\n",
       "    <tr>\n",
       "      <th>1156</th>\n",
       "      <td>1621-YNCJH</td>\n",
       "      <td>Fiber optic</td>\n",
       "      <td>Yes</td>\n",
       "      <td>Yes</td>\n",
       "      <td>Yes</td>\n",
       "      <td>Yes</td>\n",
       "      <td>No</td>\n",
       "      <td>Yes</td>\n",
       "    </tr>\n",
       "    <tr>\n",
       "      <th>123</th>\n",
       "      <td>1679-JRFBR</td>\n",
       "      <td>Fiber optic</td>\n",
       "      <td>Yes</td>\n",
       "      <td>Yes</td>\n",
       "      <td>Yes</td>\n",
       "      <td>No</td>\n",
       "      <td>Yes</td>\n",
       "      <td>Yes</td>\n",
       "    </tr>\n",
       "  </tbody>\n",
       "</table>\n",
       "</div>"
      ],
      "text/plain": [
       "      customerID InternetService OnlineSecurity OnlineBackup DeviceProtection  \\\n",
       "5109  3439-GVUSX             DSL             No           No               No   \n",
       "1823  4967-WPNCF             DSL            Yes          Yes              Yes   \n",
       "3650  8218-FFJDS             DSL            Yes          Yes               No   \n",
       "1156  1621-YNCJH     Fiber optic            Yes          Yes              Yes   \n",
       "123   1679-JRFBR     Fiber optic            Yes          Yes              Yes   \n",
       "\n",
       "     TechSupport StreamingTV StreamingMovies  \n",
       "5109          No          No              No  \n",
       "1823         Yes         Yes             Yes  \n",
       "3650         Yes         Yes             Yes  \n",
       "1156         Yes          No             Yes  \n",
       "123           No         Yes             Yes  "
      ]
     },
     "execution_count": 17,
     "metadata": {},
     "output_type": "execute_result"
    }
   ],
   "source": [
    "internet.sample(5)"
   ]
  },
  {
   "cell_type": "code",
   "execution_count": 18,
   "id": "727a74f5",
   "metadata": {},
   "outputs": [
    {
     "name": "stdout",
     "output_type": "stream",
     "text": [
      "Banyaknya Custstomer: 5517\n"
     ]
    }
   ],
   "source": [
    "print('Banyaknya Custstomer:', internet['customerID'].nunique())"
   ]
  },
  {
   "cell_type": "code",
   "execution_count": 19,
   "id": "b7c86f9f",
   "metadata": {},
   "outputs": [
    {
     "name": "stdout",
     "output_type": "stream",
     "text": [
      "Fiber optic    3096\n",
      "DSL            2421\n",
      "Name: InternetService, dtype: int64\n"
     ]
    },
    {
     "data": {
      "image/png": "[encoded data removed]",
      "text/plain": [
       "<Figure size 640x480 with 1 Axes>"
      ]
     },
     "metadata": {},
     "output_type": "display_data"
    }
   ],
   "source": [
    "print(internet['InternetService'].value_counts())\n",
    "plt.bar(internet['InternetService'].value_counts().index, internet['InternetService'].value_counts().values)\n",
    "plt.xlabel('InternetService')\n",
    "plt.ylabel('Count')\n",
    "plt.title('Internet Service Counts')\n",
    "plt.show()"
   ]
  },
  {
   "cell_type": "code",
   "execution_count": 20,
   "id": "c7b5ca41",
   "metadata": {},
   "outputs": [],
   "source": [
    "internet_dsl = internet[internet['InternetService'] == 'DSL']\n",
    "internet_foptik = internet[internet['InternetService'] == 'Fiber optic']"
   ]
  },
  {
   "cell_type": "code",
   "execution_count": 21,
   "id": "f2dd7501",
   "metadata": {},
   "outputs": [
    {
     "data": {
      "text/html": [
       "<div>\n",
       "<style scoped>\n",
       "    .dataframe tbody tr th:only-of-type {\n",
       "        vertical-align: middle;\n",
       "    }\n",
       "\n",
       "    .dataframe tbody tr th {\n",
       "        vertical-align: top;\n",
       "    }\n",
       "\n",
       "    .dataframe thead th {\n",
       "        text-align: right;\n",
       "    }\n",
       "</style>\n",
       "<table border=\"1\" class=\"dataframe\">\n",
       "  <thead>\n",
       "    <tr style=\"text-align: right;\">\n",
       "      <th></th>\n",
       "      <th>customerID</th>\n",
       "      <th>InternetService</th>\n",
       "      <th>OnlineSecurity</th>\n",
       "      <th>OnlineBackup</th>\n",
       "      <th>DeviceProtection</th>\n",
       "      <th>TechSupport</th>\n",
       "      <th>StreamingTV</th>\n",
       "      <th>StreamingMovies</th>\n",
       "    </tr>\n",
       "  </thead>\n",
       "  <tbody>\n",
       "    <tr>\n",
       "      <th>0</th>\n",
       "      <td>7590-VHVEG</td>\n",
       "      <td>DSL</td>\n",
       "      <td>No</td>\n",
       "      <td>Yes</td>\n",
       "      <td>No</td>\n",
       "      <td>No</td>\n",
       "      <td>No</td>\n",
       "      <td>No</td>\n",
       "    </tr>\n",
       "    <tr>\n",
       "      <th>1</th>\n",
       "      <td>5575-GNVDE</td>\n",
       "      <td>DSL</td>\n",
       "      <td>Yes</td>\n",
       "      <td>No</td>\n",
       "      <td>Yes</td>\n",
       "      <td>No</td>\n",
       "      <td>No</td>\n",
       "      <td>No</td>\n",
       "    </tr>\n",
       "    <tr>\n",
       "      <th>2</th>\n",
       "      <td>3668-QPYBK</td>\n",
       "      <td>DSL</td>\n",
       "      <td>Yes</td>\n",
       "      <td>Yes</td>\n",
       "      <td>No</td>\n",
       "      <td>No</td>\n",
       "      <td>No</td>\n",
       "      <td>No</td>\n",
       "    </tr>\n",
       "    <tr>\n",
       "      <th>3</th>\n",
       "      <td>7795-CFOCW</td>\n",
       "      <td>DSL</td>\n",
       "      <td>Yes</td>\n",
       "      <td>No</td>\n",
       "      <td>Yes</td>\n",
       "      <td>Yes</td>\n",
       "      <td>No</td>\n",
       "      <td>No</td>\n",
       "    </tr>\n",
       "    <tr>\n",
       "      <th>7</th>\n",
       "      <td>6713-OKOMC</td>\n",
       "      <td>DSL</td>\n",
       "      <td>Yes</td>\n",
       "      <td>No</td>\n",
       "      <td>No</td>\n",
       "      <td>No</td>\n",
       "      <td>No</td>\n",
       "      <td>No</td>\n",
       "    </tr>\n",
       "  </tbody>\n",
       "</table>\n",
       "</div>"
      ],
      "text/plain": [
       "   customerID InternetService OnlineSecurity OnlineBackup DeviceProtection  \\\n",
       "0  7590-VHVEG             DSL             No          Yes               No   \n",
       "1  5575-GNVDE             DSL            Yes           No              Yes   \n",
       "2  3668-QPYBK             DSL            Yes          Yes               No   \n",
       "3  7795-CFOCW             DSL            Yes           No              Yes   \n",
       "7  6713-OKOMC             DSL            Yes           No               No   \n",
       "\n",
       "  TechSupport StreamingTV StreamingMovies  \n",
       "0          No          No              No  \n",
       "1          No          No              No  \n",
       "2          No          No              No  \n",
       "3         Yes          No              No  \n",
       "7          No          No              No  "
      ]
     },
     "execution_count": 21,
     "metadata": {},
     "output_type": "execute_result"
    }
   ],
   "source": [
    "internet_dsl.head()"
   ]
  },
  {
   "cell_type": "code",
   "execution_count": 22,
   "id": "78a4b836",
   "metadata": {},
   "outputs": [
    {
     "data": {
      "text/html": [
       "<div>\n",
       "<style scoped>\n",
       "    .dataframe tbody tr th:only-of-type {\n",
       "        vertical-align: middle;\n",
       "    }\n",
       "\n",
       "    .dataframe tbody tr th {\n",
       "        vertical-align: top;\n",
       "    }\n",
       "\n",
       "    .dataframe thead th {\n",
       "        text-align: right;\n",
       "    }\n",
       "</style>\n",
       "<table border=\"1\" class=\"dataframe\">\n",
       "  <thead>\n",
       "    <tr style=\"text-align: right;\">\n",
       "      <th></th>\n",
       "      <th>customerID</th>\n",
       "      <th>InternetService</th>\n",
       "      <th>OnlineSecurity</th>\n",
       "      <th>OnlineBackup</th>\n",
       "      <th>DeviceProtection</th>\n",
       "      <th>TechSupport</th>\n",
       "      <th>StreamingTV</th>\n",
       "      <th>StreamingMovies</th>\n",
       "    </tr>\n",
       "  </thead>\n",
       "  <tbody>\n",
       "    <tr>\n",
       "      <th>4</th>\n",
       "      <td>9237-HQITU</td>\n",
       "      <td>Fiber optic</td>\n",
       "      <td>No</td>\n",
       "      <td>No</td>\n",
       "      <td>No</td>\n",
       "      <td>No</td>\n",
       "      <td>No</td>\n",
       "      <td>No</td>\n",
       "    </tr>\n",
       "    <tr>\n",
       "      <th>5</th>\n",
       "      <td>9305-CDSKC</td>\n",
       "      <td>Fiber optic</td>\n",
       "      <td>No</td>\n",
       "      <td>No</td>\n",
       "      <td>Yes</td>\n",
       "      <td>No</td>\n",
       "      <td>Yes</td>\n",
       "      <td>Yes</td>\n",
       "    </tr>\n",
       "    <tr>\n",
       "      <th>6</th>\n",
       "      <td>1452-KIOVK</td>\n",
       "      <td>Fiber optic</td>\n",
       "      <td>No</td>\n",
       "      <td>Yes</td>\n",
       "      <td>No</td>\n",
       "      <td>No</td>\n",
       "      <td>Yes</td>\n",
       "      <td>No</td>\n",
       "    </tr>\n",
       "    <tr>\n",
       "      <th>8</th>\n",
       "      <td>7892-POOKP</td>\n",
       "      <td>Fiber optic</td>\n",
       "      <td>No</td>\n",
       "      <td>No</td>\n",
       "      <td>Yes</td>\n",
       "      <td>Yes</td>\n",
       "      <td>Yes</td>\n",
       "      <td>Yes</td>\n",
       "    </tr>\n",
       "    <tr>\n",
       "      <th>11</th>\n",
       "      <td>8091-TTVAX</td>\n",
       "      <td>Fiber optic</td>\n",
       "      <td>No</td>\n",
       "      <td>No</td>\n",
       "      <td>Yes</td>\n",
       "      <td>No</td>\n",
       "      <td>Yes</td>\n",
       "      <td>Yes</td>\n",
       "    </tr>\n",
       "  </tbody>\n",
       "</table>\n",
       "</div>"
      ],
      "text/plain": [
       "    customerID InternetService OnlineSecurity OnlineBackup DeviceProtection  \\\n",
       "4   9237-HQITU     Fiber optic             No           No               No   \n",
       "5   9305-CDSKC     Fiber optic             No           No              Yes   \n",
       "6   1452-KIOVK     Fiber optic             No          Yes               No   \n",
       "8   7892-POOKP     Fiber optic             No           No              Yes   \n",
       "11  8091-TTVAX     Fiber optic             No           No              Yes   \n",
       "\n",
       "   TechSupport StreamingTV StreamingMovies  \n",
       "4           No          No              No  \n",
       "5           No         Yes             Yes  \n",
       "6           No         Yes              No  \n",
       "8          Yes         Yes             Yes  \n",
       "11          No         Yes             Yes  "
      ]
     },
     "execution_count": 22,
     "metadata": {},
     "output_type": "execute_result"
    }
   ],
   "source": [
    "internet_foptik.head()"
   ]
  },
  {
   "cell_type": "code",
   "execution_count": 23,
   "id": "3d1c75de",
   "metadata": {},
   "outputs": [],
   "source": [
    "internet_of_services = ['OnlineSecurity', 'OnlineBackup', 'DeviceProtection', 'TechSupport', 'StreamingTV', 'StreamingMovies']\n",
    "\n",
    "def internet_services(data):\n",
    "    value_counts_df = pd.DataFrame()\n",
    "    for column in internet_of_services:\n",
    "        value_counts_df[column] = data[column].value_counts()\n",
    "    print(value_counts_df)\n",
    "\n",
    "    fig, axs = plt.subplots(2, 3, figsize=(15, 10))\n",
    "\n",
    "    for i, column in enumerate(internet_of_services):\n",
    "        row = i // 3\n",
    "        col = i % 3\n",
    "        data[column].value_counts().plot(kind='bar', ax=axs[row, col])\n",
    "        axs[row, col].set_xlabel(column)\n",
    "        axs[row, col].set_ylabel('Count')\n",
    "        axs[row, col].set_title(f'Internet of Services {column}')\n",
    "    \n",
    "\n",
    "    plt.tight_layout()\n",
    "    plt.show()\n"
   ]
  },
  {
   "cell_type": "code",
   "execution_count": 24,
   "id": "163f2e4a",
   "metadata": {},
   "outputs": [
    {
     "name": "stdout",
     "output_type": "stream",
     "text": [
      "     OnlineSecurity  OnlineBackup  DeviceProtection  TechSupport  StreamingTV  \\\n",
      "No             1241          1335              1356         1243         1464   \n",
      "Yes            1180          1086              1065         1178          957   \n",
      "\n",
      "     StreamingMovies  \n",
      "No              1440  \n",
      "Yes              981  \n"
     ]
    },
    {
     "data": {
      "image/png": "[encoded data removed]",
      "text/plain": [
       "<Figure size 1500x1000 with 6 Axes>"
      ]
     },
     "metadata": {},
     "output_type": "display_data"
    }
   ],
   "source": [
    "internet_services(internet_dsl)"
   ]
  },
  {
   "cell_type": "code",
   "execution_count": 25,
   "id": "2ad4c6f2",
   "metadata": {},
   "outputs": [
    {
     "name": "stdout",
     "output_type": "stream",
     "text": [
      "     OnlineSecurity  OnlineBackup  DeviceProtection  TechSupport  StreamingTV  \\\n",
      "No             2257          1753              1739         2230         1346   \n",
      "Yes             839          1343              1357          866         1750   \n",
      "\n",
      "     StreamingMovies  \n",
      "No              1345  \n",
      "Yes             1751  \n"
     ]
    },
    {
     "data": {
      "image/png": "[encoded data removed]",
      "text/plain": [
       "<Figure size 1500x1000 with 6 Axes>"
      ]
     },
     "metadata": {},
     "output_type": "display_data"
    }
   ],
   "source": [
    "internet_services(internet_foptik)"
   ]
  },
  {
   "cell_type": "markdown",
   "id": "fecc8d0d",
   "metadata": {},
   "source": [
    "**Temuan**\n",
    "\n",
    "1. Terdapat 5517 pelanggan yang memiliki paket internet.\n",
    "2. Tedapat 3096 pelanggan yang memilih menggunakan Fiber optic, dan 2421 pelanggan yang memilih DSL sebagai jaringan yang digunakan.\n",
    "3. Pelanggan yang memilih fiber optic sebagai jalur jaringannya, mereka memaksimalkan layanan yang ada pada paket perusahaan, seperti OnlineBackup,DeviceProtection,StreamingTV dan StreamingMovies. Sedangkan rata-rata pelanggan yang menggunakan DSL sebagai jalur jaringannya, mereka hanya unggul di bagian OnlineSecurity dan TechSupport.  "
   ]
  },
  {
   "cell_type": "markdown",
   "id": "c5c6268a",
   "metadata": {},
   "source": [
    "**3. Data3 - contract**"
   ]
  },
  {
   "cell_type": "markdown",
   "id": "4ec07ac5",
   "metadata": {},
   "source": [
    "Dari catatan sebelumn didapat:\n",
    "- Kolom BeginDate dan EndDate tipe datanya object (dapat dirubah ke datetime).\n",
    "- Kolom TotalCharges tipe datanya object (dapat dirubah ke float).\n",
    "\n",
    "Untuk memastikannya mari tampilkan datanya."
   ]
  },
  {
   "cell_type": "code",
   "execution_count": 26,
   "id": "fd8bf78d",
   "metadata": {},
   "outputs": [
    {
     "data": {
      "text/html": [
       "<div>\n",
       "<style scoped>\n",
       "    .dataframe tbody tr th:only-of-type {\n",
       "        vertical-align: middle;\n",
       "    }\n",
       "\n",
       "    .dataframe tbody tr th {\n",
       "        vertical-align: top;\n",
       "    }\n",
       "\n",
       "    .dataframe thead th {\n",
       "        text-align: right;\n",
       "    }\n",
       "</style>\n",
       "<table border=\"1\" class=\"dataframe\">\n",
       "  <thead>\n",
       "    <tr style=\"text-align: right;\">\n",
       "      <th></th>\n",
       "      <th>customerID</th>\n",
       "      <th>BeginDate</th>\n",
       "      <th>EndDate</th>\n",
       "      <th>Type</th>\n",
       "      <th>PaperlessBilling</th>\n",
       "      <th>PaymentMethod</th>\n",
       "      <th>MonthlyCharges</th>\n",
       "      <th>TotalCharges</th>\n",
       "    </tr>\n",
       "  </thead>\n",
       "  <tbody>\n",
       "    <tr>\n",
       "      <th>0</th>\n",
       "      <td>7590-VHVEG</td>\n",
       "      <td>2020-01-01</td>\n",
       "      <td>No</td>\n",
       "      <td>Month-to-month</td>\n",
       "      <td>Yes</td>\n",
       "      <td>Electronic check</td>\n",
       "      <td>29.85</td>\n",
       "      <td>29.85</td>\n",
       "    </tr>\n",
       "    <tr>\n",
       "      <th>1</th>\n",
       "      <td>5575-GNVDE</td>\n",
       "      <td>2017-04-01</td>\n",
       "      <td>No</td>\n",
       "      <td>One year</td>\n",
       "      <td>No</td>\n",
       "      <td>Mailed check</td>\n",
       "      <td>56.95</td>\n",
       "      <td>1889.5</td>\n",
       "    </tr>\n",
       "    <tr>\n",
       "      <th>2</th>\n",
       "      <td>3668-QPYBK</td>\n",
       "      <td>2019-10-01</td>\n",
       "      <td>2019-12-01 00:00:00</td>\n",
       "      <td>Month-to-month</td>\n",
       "      <td>Yes</td>\n",
       "      <td>Mailed check</td>\n",
       "      <td>53.85</td>\n",
       "      <td>108.15</td>\n",
       "    </tr>\n",
       "    <tr>\n",
       "      <th>3</th>\n",
       "      <td>7795-CFOCW</td>\n",
       "      <td>2016-05-01</td>\n",
       "      <td>No</td>\n",
       "      <td>One year</td>\n",
       "      <td>No</td>\n",
       "      <td>Bank transfer (automatic)</td>\n",
       "      <td>42.30</td>\n",
       "      <td>1840.75</td>\n",
       "    </tr>\n",
       "    <tr>\n",
       "      <th>4</th>\n",
       "      <td>9237-HQITU</td>\n",
       "      <td>2019-09-01</td>\n",
       "      <td>2019-11-01 00:00:00</td>\n",
       "      <td>Month-to-month</td>\n",
       "      <td>Yes</td>\n",
       "      <td>Electronic check</td>\n",
       "      <td>70.70</td>\n",
       "      <td>151.65</td>\n",
       "    </tr>\n",
       "  </tbody>\n",
       "</table>\n",
       "</div>"
      ],
      "text/plain": [
       "   customerID   BeginDate              EndDate            Type  \\\n",
       "0  7590-VHVEG  2020-01-01                   No  Month-to-month   \n",
       "1  5575-GNVDE  2017-04-01                   No        One year   \n",
       "2  3668-QPYBK  2019-10-01  2019-12-01 00:00:00  Month-to-month   \n",
       "3  7795-CFOCW  2016-05-01                   No        One year   \n",
       "4  9237-HQITU  2019-09-01  2019-11-01 00:00:00  Month-to-month   \n",
       "\n",
       "  PaperlessBilling              PaymentMethod  MonthlyCharges TotalCharges  \n",
       "0              Yes           Electronic check           29.85        29.85  \n",
       "1               No               Mailed check           56.95       1889.5  \n",
       "2              Yes               Mailed check           53.85       108.15  \n",
       "3               No  Bank transfer (automatic)           42.30      1840.75  \n",
       "4              Yes           Electronic check           70.70       151.65  "
      ]
     },
     "execution_count": 26,
     "metadata": {},
     "output_type": "execute_result"
    }
   ],
   "source": [
    "contract.head()"
   ]
  },
  {
   "cell_type": "code",
   "execution_count": 27,
   "id": "11fb05f8",
   "metadata": {},
   "outputs": [
    {
     "data": {
      "text/plain": [
       "2014-02-01    366\n",
       "2019-10-01    237\n",
       "2019-11-01    237\n",
       "2019-09-01    237\n",
       "2020-01-01    233\n",
       "             ... \n",
       "2020-02-01     11\n",
       "2014-01-01      7\n",
       "2013-10-01      3\n",
       "2013-12-01      3\n",
       "2013-11-01      2\n",
       "Name: BeginDate, Length: 77, dtype: int64"
      ]
     },
     "execution_count": 27,
     "metadata": {},
     "output_type": "execute_result"
    }
   ],
   "source": [
    "contract['BeginDate'].value_counts()"
   ]
  },
  {
   "cell_type": "code",
   "execution_count": 28,
   "id": "36ced623",
   "metadata": {},
   "outputs": [
    {
     "data": {
      "text/plain": [
       "No                     5174\n",
       "2019-11-01 00:00:00     485\n",
       "2019-12-01 00:00:00     466\n",
       "2020-01-01 00:00:00     460\n",
       "2019-10-01 00:00:00     458\n",
       "Name: EndDate, dtype: int64"
      ]
     },
     "execution_count": 28,
     "metadata": {},
     "output_type": "execute_result"
    }
   ],
   "source": [
    "contract['EndDate'].value_counts()"
   ]
  },
  {
   "cell_type": "code",
   "execution_count": 29,
   "id": "27fa65f6",
   "metadata": {},
   "outputs": [
    {
     "data": {
      "text/plain": [
       "          11\n",
       "20.2      11\n",
       "19.75      9\n",
       "20.05      8\n",
       "19.9       8\n",
       "          ..\n",
       "6849.4     1\n",
       "692.35     1\n",
       "130.15     1\n",
       "3211.9     1\n",
       "6844.5     1\n",
       "Name: TotalCharges, Length: 6531, dtype: int64"
      ]
     },
     "execution_count": 29,
     "metadata": {},
     "output_type": "execute_result"
    }
   ],
   "source": [
    "contract['TotalCharges'].value_counts()"
   ]
  },
  {
   "cell_type": "code",
   "execution_count": 30,
   "id": "8c063008",
   "metadata": {},
   "outputs": [
    {
     "data": {
      "text/plain": [
       "count     7043\n",
       "unique    6531\n",
       "top           \n",
       "freq        11\n",
       "Name: TotalCharges, dtype: object"
      ]
     },
     "execution_count": 30,
     "metadata": {},
     "output_type": "execute_result"
    }
   ],
   "source": [
    "contract['TotalCharges'].describe()"
   ]
  },
  {
   "cell_type": "markdown",
   "id": "0425993d",
   "metadata": {},
   "source": [
    "Dari data diatas, terlihat ada 2 kolom yang dapat diganti tipe datannya menjadi datetime, namun pada kolom `TotalCharges` tipe datanya dapat dirubah ke float. Untuk kolom ini ternyata ada sedikit yang unik, terdapat string kosong didalamya. Itu berarti pada kolom ini terdapat missing value. Untuk mengatasi missing value ini dapat diisi sementara dengan NA selagi merubah tipe datanya.  Mari perbaiki tipe data pada ketiga kolom tersebut."
   ]
  },
  {
   "cell_type": "code",
   "execution_count": 31,
   "id": "a260af71",
   "metadata": {},
   "outputs": [],
   "source": [
    "contract['BeginDate'] = pd.to_datetime(contract['BeginDate'], format='%Y-%m-%d')\n",
    "contract['EndDate'] = pd.to_datetime(contract['EndDate'], format='%Y-%m-%d', errors='coerce')   \n"
   ]
  },
  {
   "cell_type": "code",
   "execution_count": 32,
   "id": "b64008e8",
   "metadata": {},
   "outputs": [],
   "source": [
    "contract['TotalCharges'] = contract['TotalCharges'].replace(' ', np.nan)"
   ]
  },
  {
   "cell_type": "code",
   "execution_count": 33,
   "id": "f75c6863",
   "metadata": {},
   "outputs": [],
   "source": [
    "contract['TotalCharges'] = contract['TotalCharges'].astype('float')"
   ]
  },
  {
   "cell_type": "code",
   "execution_count": 34,
   "id": "8fb401c3",
   "metadata": {},
   "outputs": [
    {
     "name": "stdout",
     "output_type": "stream",
     "text": [
      "<class 'pandas.core.frame.DataFrame'>\n",
      "RangeIndex: 7043 entries, 0 to 7042\n",
      "Data columns (total 8 columns):\n",
      " #   Column            Non-Null Count  Dtype         \n",
      "---  ------            --------------  -----         \n",
      " 0   customerID        7043 non-null   object        \n",
      " 1   BeginDate         7043 non-null   datetime64[ns]\n",
      " 2   EndDate           1869 non-null   datetime64[ns]\n",
      " 3   Type              7043 non-null   object        \n",
      " 4   PaperlessBilling  7043 non-null   object        \n",
      " 5   PaymentMethod     7043 non-null   object        \n",
      " 6   MonthlyCharges    7043 non-null   float64       \n",
      " 7   TotalCharges      7032 non-null   float64       \n",
      "dtypes: datetime64[ns](2), float64(2), object(4)\n",
      "memory usage: 440.3+ KB\n"
     ]
    }
   ],
   "source": [
    "contract.info()"
   ]
  },
  {
   "cell_type": "code",
   "execution_count": 35,
   "id": "18fe9aba",
   "metadata": {},
   "outputs": [
    {
     "data": {
      "text/plain": [
       "customerID             0\n",
       "BeginDate              0\n",
       "EndDate             5174\n",
       "Type                   0\n",
       "PaperlessBilling       0\n",
       "PaymentMethod          0\n",
       "MonthlyCharges         0\n",
       "TotalCharges          11\n",
       "dtype: int64"
      ]
     },
     "execution_count": 35,
     "metadata": {},
     "output_type": "execute_result"
    }
   ],
   "source": [
    "contract.isna().sum()"
   ]
  },
  {
   "cell_type": "code",
   "execution_count": 36,
   "id": "37a1a67c",
   "metadata": {},
   "outputs": [],
   "source": [
    "contract_endate_nan = contract[contract['EndDate'].isna()]\n",
    "contract_endate_full = contract[~contract['EndDate'].isna()]"
   ]
  },
  {
   "cell_type": "code",
   "execution_count": 37,
   "id": "4997bdee",
   "metadata": {},
   "outputs": [
    {
     "data": {
      "text/html": [
       "<div>\n",
       "<style scoped>\n",
       "    .dataframe tbody tr th:only-of-type {\n",
       "        vertical-align: middle;\n",
       "    }\n",
       "\n",
       "    .dataframe tbody tr th {\n",
       "        vertical-align: top;\n",
       "    }\n",
       "\n",
       "    .dataframe thead th {\n",
       "        text-align: right;\n",
       "    }\n",
       "</style>\n",
       "<table border=\"1\" class=\"dataframe\">\n",
       "  <thead>\n",
       "    <tr style=\"text-align: right;\">\n",
       "      <th></th>\n",
       "      <th>customerID</th>\n",
       "      <th>BeginDate</th>\n",
       "      <th>EndDate</th>\n",
       "      <th>Type</th>\n",
       "      <th>PaperlessBilling</th>\n",
       "      <th>PaymentMethod</th>\n",
       "      <th>MonthlyCharges</th>\n",
       "      <th>TotalCharges</th>\n",
       "    </tr>\n",
       "  </thead>\n",
       "  <tbody>\n",
       "    <tr>\n",
       "      <th>0</th>\n",
       "      <td>7590-VHVEG</td>\n",
       "      <td>2020-01-01</td>\n",
       "      <td>NaT</td>\n",
       "      <td>Month-to-month</td>\n",
       "      <td>Yes</td>\n",
       "      <td>Electronic check</td>\n",
       "      <td>29.85</td>\n",
       "      <td>29.85</td>\n",
       "    </tr>\n",
       "    <tr>\n",
       "      <th>1</th>\n",
       "      <td>5575-GNVDE</td>\n",
       "      <td>2017-04-01</td>\n",
       "      <td>NaT</td>\n",
       "      <td>One year</td>\n",
       "      <td>No</td>\n",
       "      <td>Mailed check</td>\n",
       "      <td>56.95</td>\n",
       "      <td>1889.50</td>\n",
       "    </tr>\n",
       "    <tr>\n",
       "      <th>3</th>\n",
       "      <td>7795-CFOCW</td>\n",
       "      <td>2016-05-01</td>\n",
       "      <td>NaT</td>\n",
       "      <td>One year</td>\n",
       "      <td>No</td>\n",
       "      <td>Bank transfer (automatic)</td>\n",
       "      <td>42.30</td>\n",
       "      <td>1840.75</td>\n",
       "    </tr>\n",
       "    <tr>\n",
       "      <th>6</th>\n",
       "      <td>1452-KIOVK</td>\n",
       "      <td>2018-04-01</td>\n",
       "      <td>NaT</td>\n",
       "      <td>Month-to-month</td>\n",
       "      <td>Yes</td>\n",
       "      <td>Credit card (automatic)</td>\n",
       "      <td>89.10</td>\n",
       "      <td>1949.40</td>\n",
       "    </tr>\n",
       "    <tr>\n",
       "      <th>7</th>\n",
       "      <td>6713-OKOMC</td>\n",
       "      <td>2019-04-01</td>\n",
       "      <td>NaT</td>\n",
       "      <td>Month-to-month</td>\n",
       "      <td>No</td>\n",
       "      <td>Mailed check</td>\n",
       "      <td>29.75</td>\n",
       "      <td>301.90</td>\n",
       "    </tr>\n",
       "  </tbody>\n",
       "</table>\n",
       "</div>"
      ],
      "text/plain": [
       "   customerID  BeginDate EndDate            Type PaperlessBilling  \\\n",
       "0  7590-VHVEG 2020-01-01     NaT  Month-to-month              Yes   \n",
       "1  5575-GNVDE 2017-04-01     NaT        One year               No   \n",
       "3  7795-CFOCW 2016-05-01     NaT        One year               No   \n",
       "6  1452-KIOVK 2018-04-01     NaT  Month-to-month              Yes   \n",
       "7  6713-OKOMC 2019-04-01     NaT  Month-to-month               No   \n",
       "\n",
       "               PaymentMethod  MonthlyCharges  TotalCharges  \n",
       "0           Electronic check           29.85         29.85  \n",
       "1               Mailed check           56.95       1889.50  \n",
       "3  Bank transfer (automatic)           42.30       1840.75  \n",
       "6    Credit card (automatic)           89.10       1949.40  \n",
       "7               Mailed check           29.75        301.90  "
      ]
     },
     "execution_count": 37,
     "metadata": {},
     "output_type": "execute_result"
    }
   ],
   "source": [
    "contract_endate_nan.head()"
   ]
  },
  {
   "cell_type": "code",
   "execution_count": 38,
   "id": "7d8256d4",
   "metadata": {},
   "outputs": [
    {
     "data": {
      "text/html": [
       "<div>\n",
       "<style scoped>\n",
       "    .dataframe tbody tr th:only-of-type {\n",
       "        vertical-align: middle;\n",
       "    }\n",
       "\n",
       "    .dataframe tbody tr th {\n",
       "        vertical-align: top;\n",
       "    }\n",
       "\n",
       "    .dataframe thead th {\n",
       "        text-align: right;\n",
       "    }\n",
       "</style>\n",
       "<table border=\"1\" class=\"dataframe\">\n",
       "  <thead>\n",
       "    <tr style=\"text-align: right;\">\n",
       "      <th></th>\n",
       "      <th>customerID</th>\n",
       "      <th>BeginDate</th>\n",
       "      <th>EndDate</th>\n",
       "      <th>Type</th>\n",
       "      <th>PaperlessBilling</th>\n",
       "      <th>PaymentMethod</th>\n",
       "      <th>MonthlyCharges</th>\n",
       "      <th>TotalCharges</th>\n",
       "    </tr>\n",
       "  </thead>\n",
       "  <tbody>\n",
       "    <tr>\n",
       "      <th>2</th>\n",
       "      <td>3668-QPYBK</td>\n",
       "      <td>2019-10-01</td>\n",
       "      <td>2019-12-01</td>\n",
       "      <td>Month-to-month</td>\n",
       "      <td>Yes</td>\n",
       "      <td>Mailed check</td>\n",
       "      <td>53.85</td>\n",
       "      <td>108.15</td>\n",
       "    </tr>\n",
       "    <tr>\n",
       "      <th>4</th>\n",
       "      <td>9237-HQITU</td>\n",
       "      <td>2019-09-01</td>\n",
       "      <td>2019-11-01</td>\n",
       "      <td>Month-to-month</td>\n",
       "      <td>Yes</td>\n",
       "      <td>Electronic check</td>\n",
       "      <td>70.70</td>\n",
       "      <td>151.65</td>\n",
       "    </tr>\n",
       "    <tr>\n",
       "      <th>5</th>\n",
       "      <td>9305-CDSKC</td>\n",
       "      <td>2019-03-01</td>\n",
       "      <td>2019-11-01</td>\n",
       "      <td>Month-to-month</td>\n",
       "      <td>Yes</td>\n",
       "      <td>Electronic check</td>\n",
       "      <td>99.65</td>\n",
       "      <td>820.50</td>\n",
       "    </tr>\n",
       "    <tr>\n",
       "      <th>8</th>\n",
       "      <td>7892-POOKP</td>\n",
       "      <td>2017-07-01</td>\n",
       "      <td>2019-11-01</td>\n",
       "      <td>Month-to-month</td>\n",
       "      <td>Yes</td>\n",
       "      <td>Electronic check</td>\n",
       "      <td>104.80</td>\n",
       "      <td>3046.05</td>\n",
       "    </tr>\n",
       "    <tr>\n",
       "      <th>13</th>\n",
       "      <td>0280-XJGEX</td>\n",
       "      <td>2015-09-01</td>\n",
       "      <td>2019-10-01</td>\n",
       "      <td>Month-to-month</td>\n",
       "      <td>Yes</td>\n",
       "      <td>Bank transfer (automatic)</td>\n",
       "      <td>103.70</td>\n",
       "      <td>5036.30</td>\n",
       "    </tr>\n",
       "  </tbody>\n",
       "</table>\n",
       "</div>"
      ],
      "text/plain": [
       "    customerID  BeginDate    EndDate            Type PaperlessBilling  \\\n",
       "2   3668-QPYBK 2019-10-01 2019-12-01  Month-to-month              Yes   \n",
       "4   9237-HQITU 2019-09-01 2019-11-01  Month-to-month              Yes   \n",
       "5   9305-CDSKC 2019-03-01 2019-11-01  Month-to-month              Yes   \n",
       "8   7892-POOKP 2017-07-01 2019-11-01  Month-to-month              Yes   \n",
       "13  0280-XJGEX 2015-09-01 2019-10-01  Month-to-month              Yes   \n",
       "\n",
       "                PaymentMethod  MonthlyCharges  TotalCharges  \n",
       "2                Mailed check           53.85        108.15  \n",
       "4            Electronic check           70.70        151.65  \n",
       "5            Electronic check           99.65        820.50  \n",
       "8            Electronic check          104.80       3046.05  \n",
       "13  Bank transfer (automatic)          103.70       5036.30  "
      ]
     },
     "execution_count": 38,
     "metadata": {},
     "output_type": "execute_result"
    }
   ],
   "source": [
    "contract_endate_full.head()"
   ]
  },
  {
   "cell_type": "code",
   "execution_count": 39,
   "id": "9b2e7c06",
   "metadata": {},
   "outputs": [
    {
     "data": {
      "text/plain": [
       "(count    5174.000000\n",
       " mean       61.265124\n",
       " std        31.092648\n",
       " min        18.250000\n",
       " 25%        25.100000\n",
       " 50%        64.425000\n",
       " 75%        88.400000\n",
       " max       118.750000\n",
       " Name: MonthlyCharges, dtype: float64,\n",
       " count    1869.000000\n",
       " mean       74.441332\n",
       " std        24.666053\n",
       " min        18.850000\n",
       " 25%        56.150000\n",
       " 50%        79.650000\n",
       " 75%        94.200000\n",
       " max       118.350000\n",
       " Name: MonthlyCharges, dtype: float64)"
      ]
     },
     "execution_count": 39,
     "metadata": {},
     "output_type": "execute_result"
    }
   ],
   "source": [
    "contract_endate_nan['MonthlyCharges'].describe(), contract_endate_full['MonthlyCharges'].describe()"
   ]
  },
  {
   "cell_type": "code",
   "execution_count": 40,
   "id": "f617d3b3",
   "metadata": {},
   "outputs": [
    {
     "data": {
      "image/png": "[encoded data removed]",
      "text/plain": [
       "<Figure size 640x480 with 1 Axes>"
      ]
     },
     "metadata": {},
     "output_type": "display_data"
    }
   ],
   "source": [
    "sns.histplot(contract_endate_nan['MonthlyCharges'], color='green')\n",
    "sns.histplot(contract_endate_full['MonthlyCharges'], color='yellow')\n",
    "plt.show()"
   ]
  },
  {
   "cell_type": "code",
   "execution_count": 41,
   "id": "998e24f0",
   "metadata": {},
   "outputs": [
    {
     "data": {
      "image/png": "[encoded data removed]",
      "text/plain": [
       "<Figure size 640x480 with 2 Axes>"
      ]
     },
     "metadata": {},
     "output_type": "display_data"
    }
   ],
   "source": [
    "plt.subplot(1,2,1)\n",
    "plt.title('User Aktiv')\n",
    "sns.boxplot(contract_endate_nan, x='MonthlyCharges')\n",
    "plt.subplot(1,2,2)\n",
    "plt.title('User Non-Aktiv')\n",
    "sns.boxplot(contract_endate_full, x='MonthlyCharges')\n",
    "plt.tight_layout()\n",
    "plt.show()"
   ]
  },
  {
   "cell_type": "markdown",
   "id": "6ca2064a",
   "metadata": {},
   "source": [
    "**Temuan**\n",
    "\n",
    "1. Dari grafik diatas terlihat bahwa jumlah pengguna aktif jauh lebih banyak dibandingkan dengan pengguna yang sudah tidak aktif.\n",
    "2. Dari data pembayaran bulanan, rata-rata pengguna aktif melakukan pembayaran perbulan yaitu 61.265124, sedangkan pengguna tidak aktif sebesar 74.441332\n",
    "3. Untuk pengguna aktif persebaran pembayaran bulananya berada sekitar 25-88, sedangkan untuk pengguna yang tidak aktif berada pada 55-95."
   ]
  },
  {
   "cell_type": "code",
   "execution_count": 42,
   "id": "a29869da",
   "metadata": {},
   "outputs": [
    {
     "name": "stdout",
     "output_type": "stream",
     "text": [
      "Month-to-month    3875\n",
      "Two year          1695\n",
      "One year          1473\n",
      "Name: Type, dtype: int64\n"
     ]
    },
    {
     "data": {
      "image/png": "[encoded data removed]",
      "text/plain": [
       "<Figure size 640x480 with 1 Axes>"
      ]
     },
     "metadata": {},
     "output_type": "display_data"
    }
   ],
   "source": [
    "print(contract['Type'].value_counts())\n",
    "plt.bar(contract['Type'].value_counts().index, contract['Type'].value_counts().values)\n",
    "plt.xlabel('Type')\n",
    "plt.ylabel('Count')\n",
    "plt.title('Contract of Type Counts')\n",
    "plt.show()"
   ]
  },
  {
   "cell_type": "code",
   "execution_count": 43,
   "id": "696a4dd6",
   "metadata": {},
   "outputs": [
    {
     "name": "stdout",
     "output_type": "stream",
     "text": [
      "Yes    4171\n",
      "No     2872\n",
      "Name: PaperlessBilling, dtype: int64\n"
     ]
    },
    {
     "data": {
      "image/png": "[encoded data removed]",
      "text/plain": [
       "<Figure size 640x480 with 1 Axes>"
      ]
     },
     "metadata": {},
     "output_type": "display_data"
    }
   ],
   "source": [
    "print(contract['PaperlessBilling'].value_counts())\n",
    "plt.bar(contract['PaperlessBilling'].value_counts().index, contract['PaperlessBilling'].value_counts().values)\n",
    "plt.xlabel('PaperlessBilling')\n",
    "plt.ylabel('Count')\n",
    "plt.title('Contract of PaperlessBilling Counts')\n",
    "plt.show()"
   ]
  },
  {
   "cell_type": "code",
   "execution_count": 44,
   "id": "7997dfc5",
   "metadata": {},
   "outputs": [
    {
     "name": "stdout",
     "output_type": "stream",
     "text": [
      "Electronic check             2365\n",
      "Mailed check                 1612\n",
      "Bank transfer (automatic)    1544\n",
      "Credit card (automatic)      1522\n",
      "Name: PaymentMethod, dtype: int64\n"
     ]
    },
    {
     "data": {
      "image/png": "[encoded data removed]",
      "text/plain": [
       "<Figure size 1000x500 with 1 Axes>"
      ]
     },
     "metadata": {},
     "output_type": "display_data"
    }
   ],
   "source": [
    "print(contract['PaymentMethod'].value_counts())\n",
    "plt.figure(figsize=(10, 5))\n",
    "plt.bar(contract['PaymentMethod'].value_counts().index, contract['PaymentMethod'].value_counts().values)\n",
    "plt.xlabel('PaymentMethod')\n",
    "plt.ylabel('Count')\n",
    "plt.title('Contract of PaymentMethod Counts')\n",
    "plt.show()"
   ]
  },
  {
   "cell_type": "code",
   "execution_count": 45,
   "id": "8667cb19",
   "metadata": {},
   "outputs": [
    {
     "name": "stdout",
     "output_type": "stream",
     "text": [
      "Describe of MonthlyCharges\n",
      " count    7043.000000\n",
      "mean       64.761692\n",
      "std        30.090047\n",
      "min        18.250000\n",
      "25%        35.500000\n",
      "50%        70.350000\n",
      "75%        89.850000\n",
      "max       118.750000\n",
      "Name: MonthlyCharges, dtype: float64\n",
      "\n",
      "Describe of TotalCharges\n",
      " count    7032.000000\n",
      "mean     2283.300441\n",
      "std      2266.771362\n",
      "min        18.800000\n",
      "25%       401.450000\n",
      "50%      1397.475000\n",
      "75%      3794.737500\n",
      "max      8684.800000\n",
      "Name: TotalCharges, dtype: float64\n"
     ]
    },
    {
     "data": {
      "image/png": "[encoded data removed]",
      "text/plain": [
       "<Figure size 640x480 with 1 Axes>"
      ]
     },
     "metadata": {},
     "output_type": "display_data"
    },
    {
     "data": {
      "image/png": "[encoded data removed]",
      "text/plain": [
       "<Figure size 640x480 with 1 Axes>"
      ]
     },
     "metadata": {},
     "output_type": "display_data"
    }
   ],
   "source": [
    "print('Describe of MonthlyCharges\\n',contract['MonthlyCharges'].describe())\n",
    "print()\n",
    "print('Describe of TotalCharges\\n',contract['TotalCharges'].describe())\n",
    "plt.subplot(211)\n",
    "sns.boxplot(x=contract['MonthlyCharges'])\n",
    "plt.show()\n",
    "plt.subplot(212)\n",
    "sns.boxplot(x=contract['TotalCharges'])\n",
    "plt.show()\n"
   ]
  },
  {
   "cell_type": "code",
   "execution_count": 46,
   "id": "5755bea2",
   "metadata": {},
   "outputs": [
    {
     "data": {
      "image/png": "[encoded data removed]",
      "text/plain": [
       "<Figure size 640x480 with 1 Axes>"
      ]
     },
     "metadata": {},
     "output_type": "display_data"
    },
    {
     "data": {
      "image/png": "[encoded data removed]",
      "text/plain": [
       "<Figure size 640x480 with 1 Axes>"
      ]
     },
     "metadata": {},
     "output_type": "display_data"
    }
   ],
   "source": [
    "sns.histplot(contract, x='MonthlyCharges', color='green')\n",
    "plt.show()\n",
    "sns.histplot(contract, x='TotalCharges', color='red')\n",
    "plt.show()\n"
   ]
  },
  {
   "cell_type": "markdown",
   "id": "a6309109",
   "metadata": {},
   "source": [
    "**Temuan**"
   ]
  },
  {
   "cell_type": "markdown",
   "id": "1029b478",
   "metadata": {},
   "source": [
    "1. Pengguna aktif lebih banyak dibandingkan dengan pengguna tidak aktif\n",
    "2. Kebanyakan pengguna menyukai sistem PaperlesBilling\n",
    "3. Lebih banyak pengguna yang menggunakan metode pembayaran electronic check dibandingkan dengan yang lainnya.\n",
    "4. Persebaran data pembayaran bulanan berada disekitar 18 s/d 118, sedangkan pebanyaran total berada disekitar 18 s/d 8684. "
   ]
  },
  {
   "cell_type": "markdown",
   "id": "305d8f7f",
   "metadata": {},
   "source": [
    "**4. Datae4 - personal**\n",
    "\n",
    "Sesuai dengan catatan sebelumnya, mari tampilkan datanya"
   ]
  },
  {
   "cell_type": "code",
   "execution_count": 47,
   "id": "e8944fb5",
   "metadata": {},
   "outputs": [
    {
     "data": {
      "text/html": [
       "<div>\n",
       "<style scoped>\n",
       "    .dataframe tbody tr th:only-of-type {\n",
       "        vertical-align: middle;\n",
       "    }\n",
       "\n",
       "    .dataframe tbody tr th {\n",
       "        vertical-align: top;\n",
       "    }\n",
       "\n",
       "    .dataframe thead th {\n",
       "        text-align: right;\n",
       "    }\n",
       "</style>\n",
       "<table border=\"1\" class=\"dataframe\">\n",
       "  <thead>\n",
       "    <tr style=\"text-align: right;\">\n",
       "      <th></th>\n",
       "      <th>customerID</th>\n",
       "      <th>gender</th>\n",
       "      <th>SeniorCitizen</th>\n",
       "      <th>Partner</th>\n",
       "      <th>Dependents</th>\n",
       "    </tr>\n",
       "  </thead>\n",
       "  <tbody>\n",
       "    <tr>\n",
       "      <th>0</th>\n",
       "      <td>7590-VHVEG</td>\n",
       "      <td>Female</td>\n",
       "      <td>0</td>\n",
       "      <td>Yes</td>\n",
       "      <td>No</td>\n",
       "    </tr>\n",
       "    <tr>\n",
       "      <th>1</th>\n",
       "      <td>5575-GNVDE</td>\n",
       "      <td>Male</td>\n",
       "      <td>0</td>\n",
       "      <td>No</td>\n",
       "      <td>No</td>\n",
       "    </tr>\n",
       "    <tr>\n",
       "      <th>2</th>\n",
       "      <td>3668-QPYBK</td>\n",
       "      <td>Male</td>\n",
       "      <td>0</td>\n",
       "      <td>No</td>\n",
       "      <td>No</td>\n",
       "    </tr>\n",
       "    <tr>\n",
       "      <th>3</th>\n",
       "      <td>7795-CFOCW</td>\n",
       "      <td>Male</td>\n",
       "      <td>0</td>\n",
       "      <td>No</td>\n",
       "      <td>No</td>\n",
       "    </tr>\n",
       "    <tr>\n",
       "      <th>4</th>\n",
       "      <td>9237-HQITU</td>\n",
       "      <td>Female</td>\n",
       "      <td>0</td>\n",
       "      <td>No</td>\n",
       "      <td>No</td>\n",
       "    </tr>\n",
       "  </tbody>\n",
       "</table>\n",
       "</div>"
      ],
      "text/plain": [
       "   customerID  gender  SeniorCitizen Partner Dependents\n",
       "0  7590-VHVEG  Female              0     Yes         No\n",
       "1  5575-GNVDE    Male              0      No         No\n",
       "2  3668-QPYBK    Male              0      No         No\n",
       "3  7795-CFOCW    Male              0      No         No\n",
       "4  9237-HQITU  Female              0      No         No"
      ]
     },
     "execution_count": 47,
     "metadata": {},
     "output_type": "execute_result"
    }
   ],
   "source": [
    "personal.head()"
   ]
  },
  {
   "cell_type": "code",
   "execution_count": 48,
   "id": "ed33e54e",
   "metadata": {},
   "outputs": [
    {
     "name": "stdout",
     "output_type": "stream",
     "text": [
      "Male      3555\n",
      "Female    3488\n",
      "Name: gender, dtype: int64\n"
     ]
    },
    {
     "data": {
      "image/png": "[encoded data removed]",
      "text/plain": [
       "<Figure size 640x480 with 1 Axes>"
      ]
     },
     "metadata": {},
     "output_type": "display_data"
    }
   ],
   "source": [
    "print(personal['gender'].value_counts())\n",
    "plt.bar(personal['gender'].value_counts().index, personal['gender'].value_counts().values)\n",
    "plt.xlabel('Gender')\n",
    "plt.ylabel('Count')\n",
    "plt.title('Personal of Gender Counts')\n",
    "plt.show()"
   ]
  },
  {
   "cell_type": "code",
   "execution_count": 49,
   "id": "2ee4b1de",
   "metadata": {
    "scrolled": true
   },
   "outputs": [
    {
     "data": {
      "image/png": "[encoded data removed]",
      "text/plain": [
       "<Figure size 640x480 with 1 Axes>"
      ]
     },
     "metadata": {},
     "output_type": "display_data"
    },
    {
     "name": "stdout",
     "output_type": "stream",
     "text": [
      "0    5901\n",
      "1    1142\n",
      "Name: SeniorCitizen, dtype: int64\n"
     ]
    }
   ],
   "source": [
    "personal['SeniorCitizen'].value_counts().plot(kind='bar')\n",
    "plt.show()\n",
    "print(personal['SeniorCitizen'].value_counts())"
   ]
  },
  {
   "cell_type": "code",
   "execution_count": 50,
   "id": "ab0c9132",
   "metadata": {
    "scrolled": true
   },
   "outputs": [
    {
     "name": "stdout",
     "output_type": "stream",
     "text": [
      "No     3641\n",
      "Yes    3402\n",
      "Name: Partner, dtype: int64\n",
      "No     4933\n",
      "Yes    2110\n",
      "Name: Dependents, dtype: int64\n"
     ]
    },
    {
     "data": {
      "image/png": "[encoded data removed]",
      "text/plain": [
       "<Figure size 640x480 with 2 Axes>"
      ]
     },
     "metadata": {},
     "output_type": "display_data"
    }
   ],
   "source": [
    "plt.subplot(1,2,1)\n",
    "personal['Partner'].value_counts().plot(kind='bar')\n",
    "plt.title('Personal of Partner')\n",
    "print(personal['Partner'].value_counts())\n",
    "plt.subplot(1,2,2)\n",
    "personal['Dependents'].value_counts().plot(kind='bar')\n",
    "plt.title('Personal of Dependents')\n",
    "print(personal['Dependents'].value_counts())\n",
    "plt.tight_layout()\n",
    "plt.show()"
   ]
  },
  {
   "cell_type": "markdown",
   "id": "6771f38b",
   "metadata": {},
   "source": [
    "**Temuan**\n",
    "\n",
    "1. Pengguna dengan jenis kelamin laki-laki sedikit lebih besar dibandingkan dengan pengguna wanita, laki-laki sebesar 3555 orang, sedangkan wanita sebesar 3488 orang.\n",
    "2. Kebanyakan dari pengguna adalah bukan dari kalangan senior cityzen."
   ]
  },
  {
   "cell_type": "markdown",
   "id": "8373d1bb",
   "metadata": {},
   "source": [
    "# Kesimpulan"
   ]
  },
  {
   "cell_type": "markdown",
   "id": "590fb768",
   "metadata": {},
   "source": [
    "Ada beberapa kesimpulan yang dapat diambil dari langkah-langkah yang telah dilakukan, diantaranya:\n",
    "1. User dari layanan telepon berjumlah 6361 user, dengan jumlah user yang menggunakan multiplelines berjumlah 2971 user, sedangkan yang tidak berjumlah 3390 user.\n",
    "2. User dari layanan internet berjumlah 5517 user, dengan jumlah user yang menggunakan jaringan Fiber optic berjumlah 3096 user dan jaringan DSL berjumlah 2421 user.\n",
    "3. Jumlah user yang sudah memiliki contract dengan Telekomunikasi Interlokasi adalah 7043 user.\n",
    "4. Telihat didataset contract, jumlah user yang masih aktif adalah 5174 user dan yang sudah tidak aktif adalah 1869 user.\n",
    "5. Rata-rata pengguna aktif melakukan pembayaran perbulan yaitu 61.265124, sedangkan pengguna tidak aktif sebesar 74.441332. Namun bila dilihat dari persebaran data pengguna aktif untuk pembayaran bulananya berada sekitar 25-88, sedangkan untuk pengguna yang tidak aktif berada pada 55-95. Pengguna tidak aktif jauh lebih sedikit dibandingkan dengan pengguna aktif.\n",
    "6. Pengguna dengan jenis kelamin laki-laki sedikit lebih besar dibandingkan dengan pengguna wanita, laki-laki sebesar 3555 orang, sedangkan wanita sebesar 3488 orang dan kebanyakan dari pengguna yang ada adalah bukan dari kalangan senior cityzen."
   ]
  },
  {
   "cell_type": "markdown",
   "id": "85a36336",
   "metadata": {},
   "source": [
    "# Daftar pertanyaan yang perlu diklarifikasi 󠀲󠀡󠀠󠀥󠀨󠀢󠀥󠀢󠀳"
   ]
  },
  {
   "cell_type": "markdown",
   "id": "f879dd69",
   "metadata": {},
   "source": [
    "1. Maksud dari MultipeLines pada dataset phone?\n",
    "2. Dataset personal menampung jumlah pengguna yang ada, namun pada saat dibandingkan dengan dataset phone dan internet jumlahnya melebihi penguna yang ada di personal, apakah pengguna dari phone juga termasuk didalam internet atau pun sebaliknya?\n",
    "3. Ada 11 missing value pada dataset contract, apakah diizinkan untuk mengisinya dengan median? karena dilihat dari datanya, nilai median kemungkinan adalah nilai yang aman untuk dipakai?\n",
    "4. Apakah benar nilai NaT atau missing value pada kolom EndDate di dataset contract adalah nilai yang akan diprediksi di model nanti. (Hanya untuk Konfirmasi saja)"
   ]
  },
  {
   "cell_type": "markdown",
   "id": "28bd9bd2",
   "metadata": {},
   "source": [
    "# Rencana kasar dalam menyelesaikan tugas, tentukan 3-5 langkah dasar dan jelaskan setiap langkah tersebut dalam satu atau dua kalimat󠀲󠀡󠀠󠀥󠀨󠀢󠀥󠀣󠀳"
   ]
  },
  {
   "cell_type": "markdown",
   "id": "81d71827",
   "metadata": {},
   "source": [
    "1. Dengan membagi dataset yang ada kedalam beberapa kelompok, tergantung dari jawaban atas pertanyaan-pertanyaan diatas.\n",
    "2. Dengan memanfaatkan Onehot-endcoder untuk mempermudah pada saat membuat model.\n",
    "3. Membagi data menjadi 3 bagian yaitu trainset, validationset dan testset.\n",
    "4. Membuat 2-3 model untuk dibandingkan kualitas modelnya dan bila perlu menggunakan metode upsampling atau downsampling untuk memudahkan proses membuat model. Dari model-model yang dilatih tersebut akan dipilih salahsatu model dengan kualitas yang lebih baik dari yang lainnya dan menggunakan model tersebut ke dalam testset."
   ]
  },
  {
   "cell_type": "markdown",
   "id": "dc1be5f7",
   "metadata": {},
   "source": [
    "# Preparing Data"
   ]
  },
  {
   "cell_type": "markdown",
   "id": "77ff6425",
   "metadata": {},
   "source": [
    "Sebelum melakukan pelatihan pada data yang ada, mari siapkan terlebih dahulu data yang akan digunakan untuk pelatihan model.\n",
    "Tujuna utama dari pelatihan model ini adalah untuk memperkirakan perpindahan klien, jika diketahui bahwa pengguna berencana keluar, mereka akan ditawari kode promosi dan opsi paket khusus. Oleh karena itu data yang akan digunakan adalah dataset contract."
   ]
  },
  {
   "cell_type": "code",
   "execution_count": 51,
   "id": "888b50e5",
   "metadata": {},
   "outputs": [
    {
     "data": {
      "text/html": [
       "<div>\n",
       "<style scoped>\n",
       "    .dataframe tbody tr th:only-of-type {\n",
       "        vertical-align: middle;\n",
       "    }\n",
       "\n",
       "    .dataframe tbody tr th {\n",
       "        vertical-align: top;\n",
       "    }\n",
       "\n",
       "    .dataframe thead th {\n",
       "        text-align: right;\n",
       "    }\n",
       "</style>\n",
       "<table border=\"1\" class=\"dataframe\">\n",
       "  <thead>\n",
       "    <tr style=\"text-align: right;\">\n",
       "      <th></th>\n",
       "      <th>customerID</th>\n",
       "      <th>BeginDate</th>\n",
       "      <th>EndDate</th>\n",
       "      <th>Type</th>\n",
       "      <th>PaperlessBilling</th>\n",
       "      <th>PaymentMethod</th>\n",
       "      <th>MonthlyCharges</th>\n",
       "      <th>TotalCharges</th>\n",
       "    </tr>\n",
       "  </thead>\n",
       "  <tbody>\n",
       "    <tr>\n",
       "      <th>0</th>\n",
       "      <td>7590-VHVEG</td>\n",
       "      <td>2020-01-01</td>\n",
       "      <td>NaT</td>\n",
       "      <td>Month-to-month</td>\n",
       "      <td>Yes</td>\n",
       "      <td>Electronic check</td>\n",
       "      <td>29.85</td>\n",
       "      <td>29.85</td>\n",
       "    </tr>\n",
       "    <tr>\n",
       "      <th>1</th>\n",
       "      <td>5575-GNVDE</td>\n",
       "      <td>2017-04-01</td>\n",
       "      <td>NaT</td>\n",
       "      <td>One year</td>\n",
       "      <td>No</td>\n",
       "      <td>Mailed check</td>\n",
       "      <td>56.95</td>\n",
       "      <td>1889.50</td>\n",
       "    </tr>\n",
       "    <tr>\n",
       "      <th>2</th>\n",
       "      <td>3668-QPYBK</td>\n",
       "      <td>2019-10-01</td>\n",
       "      <td>2019-12-01</td>\n",
       "      <td>Month-to-month</td>\n",
       "      <td>Yes</td>\n",
       "      <td>Mailed check</td>\n",
       "      <td>53.85</td>\n",
       "      <td>108.15</td>\n",
       "    </tr>\n",
       "    <tr>\n",
       "      <th>3</th>\n",
       "      <td>7795-CFOCW</td>\n",
       "      <td>2016-05-01</td>\n",
       "      <td>NaT</td>\n",
       "      <td>One year</td>\n",
       "      <td>No</td>\n",
       "      <td>Bank transfer (automatic)</td>\n",
       "      <td>42.30</td>\n",
       "      <td>1840.75</td>\n",
       "    </tr>\n",
       "    <tr>\n",
       "      <th>4</th>\n",
       "      <td>9237-HQITU</td>\n",
       "      <td>2019-09-01</td>\n",
       "      <td>2019-11-01</td>\n",
       "      <td>Month-to-month</td>\n",
       "      <td>Yes</td>\n",
       "      <td>Electronic check</td>\n",
       "      <td>70.70</td>\n",
       "      <td>151.65</td>\n",
       "    </tr>\n",
       "  </tbody>\n",
       "</table>\n",
       "</div>"
      ],
      "text/plain": [
       "   customerID  BeginDate    EndDate            Type PaperlessBilling  \\\n",
       "0  7590-VHVEG 2020-01-01        NaT  Month-to-month              Yes   \n",
       "1  5575-GNVDE 2017-04-01        NaT        One year               No   \n",
       "2  3668-QPYBK 2019-10-01 2019-12-01  Month-to-month              Yes   \n",
       "3  7795-CFOCW 2016-05-01        NaT        One year               No   \n",
       "4  9237-HQITU 2019-09-01 2019-11-01  Month-to-month              Yes   \n",
       "\n",
       "               PaymentMethod  MonthlyCharges  TotalCharges  \n",
       "0           Electronic check           29.85         29.85  \n",
       "1               Mailed check           56.95       1889.50  \n",
       "2               Mailed check           53.85        108.15  \n",
       "3  Bank transfer (automatic)           42.30       1840.75  \n",
       "4           Electronic check           70.70        151.65  "
      ]
     },
     "execution_count": 51,
     "metadata": {},
     "output_type": "execute_result"
    }
   ],
   "source": [
    "contract.head()"
   ]
  },
  {
   "cell_type": "code",
   "execution_count": 52,
   "id": "34171039",
   "metadata": {},
   "outputs": [
    {
     "name": "stdout",
     "output_type": "stream",
     "text": [
      "<class 'pandas.core.frame.DataFrame'>\n",
      "RangeIndex: 7043 entries, 0 to 7042\n",
      "Data columns (total 8 columns):\n",
      " #   Column            Non-Null Count  Dtype         \n",
      "---  ------            --------------  -----         \n",
      " 0   customerID        7043 non-null   object        \n",
      " 1   BeginDate         7043 non-null   datetime64[ns]\n",
      " 2   EndDate           1869 non-null   datetime64[ns]\n",
      " 3   Type              7043 non-null   object        \n",
      " 4   PaperlessBilling  7043 non-null   object        \n",
      " 5   PaymentMethod     7043 non-null   object        \n",
      " 6   MonthlyCharges    7043 non-null   float64       \n",
      " 7   TotalCharges      7032 non-null   float64       \n",
      "dtypes: datetime64[ns](2), float64(2), object(4)\n",
      "memory usage: 440.3+ KB\n"
     ]
    }
   ],
   "source": [
    "contract.info()"
   ]
  },
  {
   "cell_type": "code",
   "execution_count": 53,
   "id": "c96aa502",
   "metadata": {},
   "outputs": [
    {
     "data": {
      "text/plain": [
       "customerID             0\n",
       "BeginDate              0\n",
       "EndDate             5174\n",
       "Type                   0\n",
       "PaperlessBilling       0\n",
       "PaymentMethod          0\n",
       "MonthlyCharges         0\n",
       "TotalCharges          11\n",
       "dtype: int64"
      ]
     },
     "execution_count": 53,
     "metadata": {},
     "output_type": "execute_result"
    }
   ],
   "source": [
    "contract.isna().sum()"
   ]
  },
  {
   "cell_type": "markdown",
   "id": "271a707a",
   "metadata": {},
   "source": [
    "Terdapat missing value pada kolom `EndDate` dan juga `TotalCharges`. Untuk Kolom EndDate, missing value menandakan user yang masih aktif, oleh karena itu missing value pada kolom ini sementara dibiarkan terlebih dahulu. Pada kolom `TotalCharges` terdapat 11 mising value. MAri tamplikan detail dari kolom ini"
   ]
  },
  {
   "cell_type": "code",
   "execution_count": 54,
   "id": "04cb2dc9",
   "metadata": {},
   "outputs": [
    {
     "data": {
      "text/plain": [
       "11"
      ]
     },
     "execution_count": 54,
     "metadata": {},
     "output_type": "execute_result"
    }
   ],
   "source": [
    "contract['TotalCharges'].isna().sum()"
   ]
  },
  {
   "cell_type": "code",
   "execution_count": 55,
   "id": "a40b7340",
   "metadata": {},
   "outputs": [
    {
     "data": {
      "text/plain": [
       "count    7032.000000\n",
       "mean     2283.300441\n",
       "std      2266.771362\n",
       "min        18.800000\n",
       "25%       401.450000\n",
       "50%      1397.475000\n",
       "75%      3794.737500\n",
       "max      8684.800000\n",
       "Name: TotalCharges, dtype: float64"
      ]
     },
     "execution_count": 55,
     "metadata": {},
     "output_type": "execute_result"
    }
   ],
   "source": [
    "contract['TotalCharges'].describe()"
   ]
  },
  {
   "cell_type": "markdown",
   "id": "7a32587a",
   "metadata": {},
   "source": [
    "Dari data diatas, missing valeu yang ada sementara dapat diisi dengan median dari kolom ini. Nilai median terlihat cukup aman untuk mengisi missing value yang ada."
   ]
  },
  {
   "cell_type": "code",
   "execution_count": 56,
   "id": "a912b8fb",
   "metadata": {},
   "outputs": [
    {
     "data": {
      "text/plain": [
       "customerID             0\n",
       "BeginDate              0\n",
       "EndDate             5174\n",
       "Type                   0\n",
       "PaperlessBilling       0\n",
       "PaymentMethod          0\n",
       "MonthlyCharges         0\n",
       "TotalCharges           0\n",
       "dtype: int64"
      ]
     },
     "execution_count": 56,
     "metadata": {},
     "output_type": "execute_result"
    }
   ],
   "source": [
    "contract['TotalCharges'] = contract['TotalCharges'].fillna(contract['TotalCharges'].median())\n",
    "contract.isna().sum()\n"
   ]
  },
  {
   "cell_type": "markdown",
   "id": "d90d64f6",
   "metadata": {},
   "source": [
    "Missing value pada kolom `TotalCharges` sudah berhasil diisi dengan median dari kolom tersebut.\n",
    "Mari gabungkan 2 dataset yang berisi data dari semua pengguna, dateset tersebut adalah personal dan juga contract."
   ]
  },
  {
   "cell_type": "code",
   "execution_count": 57,
   "id": "dda994c5",
   "metadata": {},
   "outputs": [
    {
     "data": {
      "text/html": [
       "<div>\n",
       "<style scoped>\n",
       "    .dataframe tbody tr th:only-of-type {\n",
       "        vertical-align: middle;\n",
       "    }\n",
       "\n",
       "    .dataframe tbody tr th {\n",
       "        vertical-align: top;\n",
       "    }\n",
       "\n",
       "    .dataframe thead th {\n",
       "        text-align: right;\n",
       "    }\n",
       "</style>\n",
       "<table border=\"1\" class=\"dataframe\">\n",
       "  <thead>\n",
       "    <tr style=\"text-align: right;\">\n",
       "      <th></th>\n",
       "      <th>customerID</th>\n",
       "      <th>gender</th>\n",
       "      <th>SeniorCitizen</th>\n",
       "      <th>Partner</th>\n",
       "      <th>Dependents</th>\n",
       "    </tr>\n",
       "  </thead>\n",
       "  <tbody>\n",
       "    <tr>\n",
       "      <th>0</th>\n",
       "      <td>7590-VHVEG</td>\n",
       "      <td>Female</td>\n",
       "      <td>0</td>\n",
       "      <td>Yes</td>\n",
       "      <td>No</td>\n",
       "    </tr>\n",
       "    <tr>\n",
       "      <th>1</th>\n",
       "      <td>5575-GNVDE</td>\n",
       "      <td>Male</td>\n",
       "      <td>0</td>\n",
       "      <td>No</td>\n",
       "      <td>No</td>\n",
       "    </tr>\n",
       "    <tr>\n",
       "      <th>2</th>\n",
       "      <td>3668-QPYBK</td>\n",
       "      <td>Male</td>\n",
       "      <td>0</td>\n",
       "      <td>No</td>\n",
       "      <td>No</td>\n",
       "    </tr>\n",
       "    <tr>\n",
       "      <th>3</th>\n",
       "      <td>7795-CFOCW</td>\n",
       "      <td>Male</td>\n",
       "      <td>0</td>\n",
       "      <td>No</td>\n",
       "      <td>No</td>\n",
       "    </tr>\n",
       "    <tr>\n",
       "      <th>4</th>\n",
       "      <td>9237-HQITU</td>\n",
       "      <td>Female</td>\n",
       "      <td>0</td>\n",
       "      <td>No</td>\n",
       "      <td>No</td>\n",
       "    </tr>\n",
       "  </tbody>\n",
       "</table>\n",
       "</div>"
      ],
      "text/plain": [
       "   customerID  gender  SeniorCitizen Partner Dependents\n",
       "0  7590-VHVEG  Female              0     Yes         No\n",
       "1  5575-GNVDE    Male              0      No         No\n",
       "2  3668-QPYBK    Male              0      No         No\n",
       "3  7795-CFOCW    Male              0      No         No\n",
       "4  9237-HQITU  Female              0      No         No"
      ]
     },
     "execution_count": 57,
     "metadata": {},
     "output_type": "execute_result"
    }
   ],
   "source": [
    "personal.head()"
   ]
  },
  {
   "cell_type": "code",
   "execution_count": 58,
   "id": "a81c7444",
   "metadata": {},
   "outputs": [
    {
     "data": {
      "text/html": [
       "<div>\n",
       "<style scoped>\n",
       "    .dataframe tbody tr th:only-of-type {\n",
       "        vertical-align: middle;\n",
       "    }\n",
       "\n",
       "    .dataframe tbody tr th {\n",
       "        vertical-align: top;\n",
       "    }\n",
       "\n",
       "    .dataframe thead th {\n",
       "        text-align: right;\n",
       "    }\n",
       "</style>\n",
       "<table border=\"1\" class=\"dataframe\">\n",
       "  <thead>\n",
       "    <tr style=\"text-align: right;\">\n",
       "      <th></th>\n",
       "      <th>customerID</th>\n",
       "      <th>BeginDate</th>\n",
       "      <th>EndDate</th>\n",
       "      <th>Type</th>\n",
       "      <th>PaperlessBilling</th>\n",
       "      <th>PaymentMethod</th>\n",
       "      <th>MonthlyCharges</th>\n",
       "      <th>TotalCharges</th>\n",
       "    </tr>\n",
       "  </thead>\n",
       "  <tbody>\n",
       "    <tr>\n",
       "      <th>0</th>\n",
       "      <td>7590-VHVEG</td>\n",
       "      <td>2020-01-01</td>\n",
       "      <td>NaT</td>\n",
       "      <td>Month-to-month</td>\n",
       "      <td>Yes</td>\n",
       "      <td>Electronic check</td>\n",
       "      <td>29.85</td>\n",
       "      <td>29.85</td>\n",
       "    </tr>\n",
       "    <tr>\n",
       "      <th>1</th>\n",
       "      <td>5575-GNVDE</td>\n",
       "      <td>2017-04-01</td>\n",
       "      <td>NaT</td>\n",
       "      <td>One year</td>\n",
       "      <td>No</td>\n",
       "      <td>Mailed check</td>\n",
       "      <td>56.95</td>\n",
       "      <td>1889.50</td>\n",
       "    </tr>\n",
       "    <tr>\n",
       "      <th>2</th>\n",
       "      <td>3668-QPYBK</td>\n",
       "      <td>2019-10-01</td>\n",
       "      <td>2019-12-01</td>\n",
       "      <td>Month-to-month</td>\n",
       "      <td>Yes</td>\n",
       "      <td>Mailed check</td>\n",
       "      <td>53.85</td>\n",
       "      <td>108.15</td>\n",
       "    </tr>\n",
       "    <tr>\n",
       "      <th>3</th>\n",
       "      <td>7795-CFOCW</td>\n",
       "      <td>2016-05-01</td>\n",
       "      <td>NaT</td>\n",
       "      <td>One year</td>\n",
       "      <td>No</td>\n",
       "      <td>Bank transfer (automatic)</td>\n",
       "      <td>42.30</td>\n",
       "      <td>1840.75</td>\n",
       "    </tr>\n",
       "    <tr>\n",
       "      <th>4</th>\n",
       "      <td>9237-HQITU</td>\n",
       "      <td>2019-09-01</td>\n",
       "      <td>2019-11-01</td>\n",
       "      <td>Month-to-month</td>\n",
       "      <td>Yes</td>\n",
       "      <td>Electronic check</td>\n",
       "      <td>70.70</td>\n",
       "      <td>151.65</td>\n",
       "    </tr>\n",
       "  </tbody>\n",
       "</table>\n",
       "</div>"
      ],
      "text/plain": [
       "   customerID  BeginDate    EndDate            Type PaperlessBilling  \\\n",
       "0  7590-VHVEG 2020-01-01        NaT  Month-to-month              Yes   \n",
       "1  5575-GNVDE 2017-04-01        NaT        One year               No   \n",
       "2  3668-QPYBK 2019-10-01 2019-12-01  Month-to-month              Yes   \n",
       "3  7795-CFOCW 2016-05-01        NaT        One year               No   \n",
       "4  9237-HQITU 2019-09-01 2019-11-01  Month-to-month              Yes   \n",
       "\n",
       "               PaymentMethod  MonthlyCharges  TotalCharges  \n",
       "0           Electronic check           29.85         29.85  \n",
       "1               Mailed check           56.95       1889.50  \n",
       "2               Mailed check           53.85        108.15  \n",
       "3  Bank transfer (automatic)           42.30       1840.75  \n",
       "4           Electronic check           70.70        151.65  "
      ]
     },
     "execution_count": 58,
     "metadata": {},
     "output_type": "execute_result"
    }
   ],
   "source": [
    "contract.head()"
   ]
  },
  {
   "cell_type": "markdown",
   "id": "e5da24dc",
   "metadata": {},
   "source": [
    "Sebelum digabungkan, mari pastikan terlebih dahulu data dari `customerID` pada kedua dataset adalah sama."
   ]
  },
  {
   "cell_type": "code",
   "execution_count": 59,
   "id": "feab0ad2",
   "metadata": {},
   "outputs": [
    {
     "data": {
      "text/plain": [
       "set()"
      ]
     },
     "execution_count": 59,
     "metadata": {},
     "output_type": "execute_result"
    }
   ],
   "source": [
    "set(list(personal['customerID'].values)) - set(list(contract['customerID'].values))"
   ]
  },
  {
   "cell_type": "markdown",
   "id": "06106587",
   "metadata": {},
   "source": [
    "Dari hasil diatas, tidak tersisa data dari customerID. Ini menandakan bahwa kedua dataset dapat digabungkan sesuai dengan colom `customerID`"
   ]
  },
  {
   "cell_type": "code",
   "execution_count": 60,
   "id": "cf69a364",
   "metadata": {},
   "outputs": [
    {
     "data": {
      "text/html": [
       "<div>\n",
       "<style scoped>\n",
       "    .dataframe tbody tr th:only-of-type {\n",
       "        vertical-align: middle;\n",
       "    }\n",
       "\n",
       "    .dataframe tbody tr th {\n",
       "        vertical-align: top;\n",
       "    }\n",
       "\n",
       "    .dataframe thead th {\n",
       "        text-align: right;\n",
       "    }\n",
       "</style>\n",
       "<table border=\"1\" class=\"dataframe\">\n",
       "  <thead>\n",
       "    <tr style=\"text-align: right;\">\n",
       "      <th></th>\n",
       "      <th>customerID</th>\n",
       "      <th>gender</th>\n",
       "      <th>SeniorCitizen</th>\n",
       "      <th>Partner</th>\n",
       "      <th>Dependents</th>\n",
       "      <th>BeginDate</th>\n",
       "      <th>EndDate</th>\n",
       "      <th>Type</th>\n",
       "      <th>PaperlessBilling</th>\n",
       "      <th>PaymentMethod</th>\n",
       "      <th>MonthlyCharges</th>\n",
       "      <th>TotalCharges</th>\n",
       "    </tr>\n",
       "  </thead>\n",
       "  <tbody>\n",
       "    <tr>\n",
       "      <th>0</th>\n",
       "      <td>7590-VHVEG</td>\n",
       "      <td>Female</td>\n",
       "      <td>0</td>\n",
       "      <td>Yes</td>\n",
       "      <td>No</td>\n",
       "      <td>2020-01-01</td>\n",
       "      <td>NaT</td>\n",
       "      <td>Month-to-month</td>\n",
       "      <td>Yes</td>\n",
       "      <td>Electronic check</td>\n",
       "      <td>29.85</td>\n",
       "      <td>29.85</td>\n",
       "    </tr>\n",
       "    <tr>\n",
       "      <th>1</th>\n",
       "      <td>5575-GNVDE</td>\n",
       "      <td>Male</td>\n",
       "      <td>0</td>\n",
       "      <td>No</td>\n",
       "      <td>No</td>\n",
       "      <td>2017-04-01</td>\n",
       "      <td>NaT</td>\n",
       "      <td>One year</td>\n",
       "      <td>No</td>\n",
       "      <td>Mailed check</td>\n",
       "      <td>56.95</td>\n",
       "      <td>1889.50</td>\n",
       "    </tr>\n",
       "    <tr>\n",
       "      <th>2</th>\n",
       "      <td>3668-QPYBK</td>\n",
       "      <td>Male</td>\n",
       "      <td>0</td>\n",
       "      <td>No</td>\n",
       "      <td>No</td>\n",
       "      <td>2019-10-01</td>\n",
       "      <td>2019-12-01</td>\n",
       "      <td>Month-to-month</td>\n",
       "      <td>Yes</td>\n",
       "      <td>Mailed check</td>\n",
       "      <td>53.85</td>\n",
       "      <td>108.15</td>\n",
       "    </tr>\n",
       "    <tr>\n",
       "      <th>3</th>\n",
       "      <td>7795-CFOCW</td>\n",
       "      <td>Male</td>\n",
       "      <td>0</td>\n",
       "      <td>No</td>\n",
       "      <td>No</td>\n",
       "      <td>2016-05-01</td>\n",
       "      <td>NaT</td>\n",
       "      <td>One year</td>\n",
       "      <td>No</td>\n",
       "      <td>Bank transfer (automatic)</td>\n",
       "      <td>42.30</td>\n",
       "      <td>1840.75</td>\n",
       "    </tr>\n",
       "    <tr>\n",
       "      <th>4</th>\n",
       "      <td>9237-HQITU</td>\n",
       "      <td>Female</td>\n",
       "      <td>0</td>\n",
       "      <td>No</td>\n",
       "      <td>No</td>\n",
       "      <td>2019-09-01</td>\n",
       "      <td>2019-11-01</td>\n",
       "      <td>Month-to-month</td>\n",
       "      <td>Yes</td>\n",
       "      <td>Electronic check</td>\n",
       "      <td>70.70</td>\n",
       "      <td>151.65</td>\n",
       "    </tr>\n",
       "  </tbody>\n",
       "</table>\n",
       "</div>"
      ],
      "text/plain": [
       "   customerID  gender  SeniorCitizen Partner Dependents  BeginDate    EndDate  \\\n",
       "0  7590-VHVEG  Female              0     Yes         No 2020-01-01        NaT   \n",
       "1  5575-GNVDE    Male              0      No         No 2017-04-01        NaT   \n",
       "2  3668-QPYBK    Male              0      No         No 2019-10-01 2019-12-01   \n",
       "3  7795-CFOCW    Male              0      No         No 2016-05-01        NaT   \n",
       "4  9237-HQITU  Female              0      No         No 2019-09-01 2019-11-01   \n",
       "\n",
       "             Type PaperlessBilling              PaymentMethod  MonthlyCharges  \\\n",
       "0  Month-to-month              Yes           Electronic check           29.85   \n",
       "1        One year               No               Mailed check           56.95   \n",
       "2  Month-to-month              Yes               Mailed check           53.85   \n",
       "3        One year               No  Bank transfer (automatic)           42.30   \n",
       "4  Month-to-month              Yes           Electronic check           70.70   \n",
       "\n",
       "   TotalCharges  \n",
       "0         29.85  \n",
       "1       1889.50  \n",
       "2        108.15  \n",
       "3       1840.75  \n",
       "4        151.65  "
      ]
     },
     "execution_count": 60,
     "metadata": {},
     "output_type": "execute_result"
    }
   ],
   "source": [
    "personal_contract = personal.merge(contract, on='customerID')\n",
    "personal_contract.head()"
   ]
  },
  {
   "cell_type": "markdown",
   "id": "4ffe16b6",
   "metadata": {},
   "source": [
    "Langkah selanjutya, mari perkaya data yang ada pada bagian `BeginDate` dan `EndDate` dan juga siapkan data yang diperlukan untuk proses pemodelan."
   ]
  },
  {
   "cell_type": "markdown",
   "id": "48e524b2",
   "metadata": {},
   "source": [
    "**1. Menambahkan kolom year, month, day berdasarkan BeginDate**"
   ]
  },
  {
   "cell_type": "code",
   "execution_count": 61,
   "id": "c67e49b5",
   "metadata": {},
   "outputs": [
    {
     "data": {
      "text/html": [
       "<div>\n",
       "<style scoped>\n",
       "    .dataframe tbody tr th:only-of-type {\n",
       "        vertical-align: middle;\n",
       "    }\n",
       "\n",
       "    .dataframe tbody tr th {\n",
       "        vertical-align: top;\n",
       "    }\n",
       "\n",
       "    .dataframe thead th {\n",
       "        text-align: right;\n",
       "    }\n",
       "</style>\n",
       "<table border=\"1\" class=\"dataframe\">\n",
       "  <thead>\n",
       "    <tr style=\"text-align: right;\">\n",
       "      <th></th>\n",
       "      <th>customerID</th>\n",
       "      <th>gender</th>\n",
       "      <th>SeniorCitizen</th>\n",
       "      <th>Partner</th>\n",
       "      <th>Dependents</th>\n",
       "      <th>BeginDate</th>\n",
       "      <th>EndDate</th>\n",
       "      <th>Type</th>\n",
       "      <th>PaperlessBilling</th>\n",
       "      <th>PaymentMethod</th>\n",
       "      <th>MonthlyCharges</th>\n",
       "      <th>TotalCharges</th>\n",
       "      <th>BeginDate_Year</th>\n",
       "      <th>BeginDate_Month</th>\n",
       "      <th>BeginDate_Day</th>\n",
       "    </tr>\n",
       "  </thead>\n",
       "  <tbody>\n",
       "    <tr>\n",
       "      <th>0</th>\n",
       "      <td>7590-VHVEG</td>\n",
       "      <td>Female</td>\n",
       "      <td>0</td>\n",
       "      <td>Yes</td>\n",
       "      <td>No</td>\n",
       "      <td>2020-01-01</td>\n",
       "      <td>NaT</td>\n",
       "      <td>Month-to-month</td>\n",
       "      <td>Yes</td>\n",
       "      <td>Electronic check</td>\n",
       "      <td>29.85</td>\n",
       "      <td>29.85</td>\n",
       "      <td>2020</td>\n",
       "      <td>1</td>\n",
       "      <td>1</td>\n",
       "    </tr>\n",
       "    <tr>\n",
       "      <th>1</th>\n",
       "      <td>5575-GNVDE</td>\n",
       "      <td>Male</td>\n",
       "      <td>0</td>\n",
       "      <td>No</td>\n",
       "      <td>No</td>\n",
       "      <td>2017-04-01</td>\n",
       "      <td>NaT</td>\n",
       "      <td>One year</td>\n",
       "      <td>No</td>\n",
       "      <td>Mailed check</td>\n",
       "      <td>56.95</td>\n",
       "      <td>1889.50</td>\n",
       "      <td>2017</td>\n",
       "      <td>4</td>\n",
       "      <td>1</td>\n",
       "    </tr>\n",
       "    <tr>\n",
       "      <th>2</th>\n",
       "      <td>3668-QPYBK</td>\n",
       "      <td>Male</td>\n",
       "      <td>0</td>\n",
       "      <td>No</td>\n",
       "      <td>No</td>\n",
       "      <td>2019-10-01</td>\n",
       "      <td>2019-12-01</td>\n",
       "      <td>Month-to-month</td>\n",
       "      <td>Yes</td>\n",
       "      <td>Mailed check</td>\n",
       "      <td>53.85</td>\n",
       "      <td>108.15</td>\n",
       "      <td>2019</td>\n",
       "      <td>10</td>\n",
       "      <td>1</td>\n",
       "    </tr>\n",
       "    <tr>\n",
       "      <th>3</th>\n",
       "      <td>7795-CFOCW</td>\n",
       "      <td>Male</td>\n",
       "      <td>0</td>\n",
       "      <td>No</td>\n",
       "      <td>No</td>\n",
       "      <td>2016-05-01</td>\n",
       "      <td>NaT</td>\n",
       "      <td>One year</td>\n",
       "      <td>No</td>\n",
       "      <td>Bank transfer (automatic)</td>\n",
       "      <td>42.30</td>\n",
       "      <td>1840.75</td>\n",
       "      <td>2016</td>\n",
       "      <td>5</td>\n",
       "      <td>1</td>\n",
       "    </tr>\n",
       "    <tr>\n",
       "      <th>4</th>\n",
       "      <td>9237-HQITU</td>\n",
       "      <td>Female</td>\n",
       "      <td>0</td>\n",
       "      <td>No</td>\n",
       "      <td>No</td>\n",
       "      <td>2019-09-01</td>\n",
       "      <td>2019-11-01</td>\n",
       "      <td>Month-to-month</td>\n",
       "      <td>Yes</td>\n",
       "      <td>Electronic check</td>\n",
       "      <td>70.70</td>\n",
       "      <td>151.65</td>\n",
       "      <td>2019</td>\n",
       "      <td>9</td>\n",
       "      <td>1</td>\n",
       "    </tr>\n",
       "  </tbody>\n",
       "</table>\n",
       "</div>"
      ],
      "text/plain": [
       "   customerID  gender  SeniorCitizen Partner Dependents  BeginDate    EndDate  \\\n",
       "0  7590-VHVEG  Female              0     Yes         No 2020-01-01        NaT   \n",
       "1  5575-GNVDE    Male              0      No         No 2017-04-01        NaT   \n",
       "2  3668-QPYBK    Male              0      No         No 2019-10-01 2019-12-01   \n",
       "3  7795-CFOCW    Male              0      No         No 2016-05-01        NaT   \n",
       "4  9237-HQITU  Female              0      No         No 2019-09-01 2019-11-01   \n",
       "\n",
       "             Type PaperlessBilling              PaymentMethod  MonthlyCharges  \\\n",
       "0  Month-to-month              Yes           Electronic check           29.85   \n",
       "1        One year               No               Mailed check           56.95   \n",
       "2  Month-to-month              Yes               Mailed check           53.85   \n",
       "3        One year               No  Bank transfer (automatic)           42.30   \n",
       "4  Month-to-month              Yes           Electronic check           70.70   \n",
       "\n",
       "   TotalCharges  BeginDate_Year  BeginDate_Month  BeginDate_Day  \n",
       "0         29.85            2020                1              1  \n",
       "1       1889.50            2017                4              1  \n",
       "2        108.15            2019               10              1  \n",
       "3       1840.75            2016                5              1  \n",
       "4        151.65            2019                9              1  "
      ]
     },
     "execution_count": 61,
     "metadata": {},
     "output_type": "execute_result"
    }
   ],
   "source": [
    "personal_contract['BeginDate_Year'] = personal_contract['BeginDate'].dt.year\n",
    "personal_contract['BeginDate_Month'] = personal_contract['BeginDate'].dt.month\n",
    "personal_contract['BeginDate_Day'] = personal_contract['BeginDate'].dt.day\n",
    "personal_contract.head()"
   ]
  },
  {
   "cell_type": "markdown",
   "id": "af8b0c7f",
   "metadata": {},
   "source": [
    "**2. Membuat One-hot Encoder pada beberapa kolom**"
   ]
  },
  {
   "cell_type": "markdown",
   "id": "121aa5da",
   "metadata": {},
   "source": [
    "Kolom-kolom yang dimaksud adalah kolom:\n",
    "- gender\n",
    "- Partner\n",
    "- Dependents\n",
    "- Type\n",
    "- PaperlessBilling  \n",
    "- PaymentMethod    "
   ]
  },
  {
   "cell_type": "code",
   "execution_count": 62,
   "id": "8de0c637",
   "metadata": {},
   "outputs": [
    {
     "data": {
      "text/html": [
       "<div>\n",
       "<style scoped>\n",
       "    .dataframe tbody tr th:only-of-type {\n",
       "        vertical-align: middle;\n",
       "    }\n",
       "\n",
       "    .dataframe tbody tr th {\n",
       "        vertical-align: top;\n",
       "    }\n",
       "\n",
       "    .dataframe thead th {\n",
       "        text-align: right;\n",
       "    }\n",
       "</style>\n",
       "<table border=\"1\" class=\"dataframe\">\n",
       "  <thead>\n",
       "    <tr style=\"text-align: right;\">\n",
       "      <th></th>\n",
       "      <th>customerID</th>\n",
       "      <th>SeniorCitizen</th>\n",
       "      <th>BeginDate</th>\n",
       "      <th>EndDate</th>\n",
       "      <th>MonthlyCharges</th>\n",
       "      <th>TotalCharges</th>\n",
       "      <th>BeginDate_Year</th>\n",
       "      <th>BeginDate_Month</th>\n",
       "      <th>BeginDate_Day</th>\n",
       "      <th>gender_Male</th>\n",
       "      <th>Partner_Yes</th>\n",
       "      <th>Dependents_Yes</th>\n",
       "      <th>Type_One year</th>\n",
       "      <th>Type_Two year</th>\n",
       "      <th>PaperlessBilling_Yes</th>\n",
       "      <th>PaymentMethod_Credit card (automatic)</th>\n",
       "      <th>PaymentMethod_Electronic check</th>\n",
       "      <th>PaymentMethod_Mailed check</th>\n",
       "    </tr>\n",
       "  </thead>\n",
       "  <tbody>\n",
       "    <tr>\n",
       "      <th>0</th>\n",
       "      <td>7590-VHVEG</td>\n",
       "      <td>0</td>\n",
       "      <td>2020-01-01</td>\n",
       "      <td>NaT</td>\n",
       "      <td>29.85</td>\n",
       "      <td>29.85</td>\n",
       "      <td>2020</td>\n",
       "      <td>1</td>\n",
       "      <td>1</td>\n",
       "      <td>0</td>\n",
       "      <td>1</td>\n",
       "      <td>0</td>\n",
       "      <td>0</td>\n",
       "      <td>0</td>\n",
       "      <td>1</td>\n",
       "      <td>0</td>\n",
       "      <td>1</td>\n",
       "      <td>0</td>\n",
       "    </tr>\n",
       "    <tr>\n",
       "      <th>1</th>\n",
       "      <td>5575-GNVDE</td>\n",
       "      <td>0</td>\n",
       "      <td>2017-04-01</td>\n",
       "      <td>NaT</td>\n",
       "      <td>56.95</td>\n",
       "      <td>1889.50</td>\n",
       "      <td>2017</td>\n",
       "      <td>4</td>\n",
       "      <td>1</td>\n",
       "      <td>1</td>\n",
       "      <td>0</td>\n",
       "      <td>0</td>\n",
       "      <td>1</td>\n",
       "      <td>0</td>\n",
       "      <td>0</td>\n",
       "      <td>0</td>\n",
       "      <td>0</td>\n",
       "      <td>1</td>\n",
       "    </tr>\n",
       "    <tr>\n",
       "      <th>2</th>\n",
       "      <td>3668-QPYBK</td>\n",
       "      <td>0</td>\n",
       "      <td>2019-10-01</td>\n",
       "      <td>2019-12-01</td>\n",
       "      <td>53.85</td>\n",
       "      <td>108.15</td>\n",
       "      <td>2019</td>\n",
       "      <td>10</td>\n",
       "      <td>1</td>\n",
       "      <td>1</td>\n",
       "      <td>0</td>\n",
       "      <td>0</td>\n",
       "      <td>0</td>\n",
       "      <td>0</td>\n",
       "      <td>1</td>\n",
       "      <td>0</td>\n",
       "      <td>0</td>\n",
       "      <td>1</td>\n",
       "    </tr>\n",
       "    <tr>\n",
       "      <th>3</th>\n",
       "      <td>7795-CFOCW</td>\n",
       "      <td>0</td>\n",
       "      <td>2016-05-01</td>\n",
       "      <td>NaT</td>\n",
       "      <td>42.30</td>\n",
       "      <td>1840.75</td>\n",
       "      <td>2016</td>\n",
       "      <td>5</td>\n",
       "      <td>1</td>\n",
       "      <td>1</td>\n",
       "      <td>0</td>\n",
       "      <td>0</td>\n",
       "      <td>1</td>\n",
       "      <td>0</td>\n",
       "      <td>0</td>\n",
       "      <td>0</td>\n",
       "      <td>0</td>\n",
       "      <td>0</td>\n",
       "    </tr>\n",
       "    <tr>\n",
       "      <th>4</th>\n",
       "      <td>9237-HQITU</td>\n",
       "      <td>0</td>\n",
       "      <td>2019-09-01</td>\n",
       "      <td>2019-11-01</td>\n",
       "      <td>70.70</td>\n",
       "      <td>151.65</td>\n",
       "      <td>2019</td>\n",
       "      <td>9</td>\n",
       "      <td>1</td>\n",
       "      <td>0</td>\n",
       "      <td>0</td>\n",
       "      <td>0</td>\n",
       "      <td>0</td>\n",
       "      <td>0</td>\n",
       "      <td>1</td>\n",
       "      <td>0</td>\n",
       "      <td>1</td>\n",
       "      <td>0</td>\n",
       "    </tr>\n",
       "  </tbody>\n",
       "</table>\n",
       "</div>"
      ],
      "text/plain": [
       "   customerID  SeniorCitizen  BeginDate    EndDate  MonthlyCharges  \\\n",
       "0  7590-VHVEG              0 2020-01-01        NaT           29.85   \n",
       "1  5575-GNVDE              0 2017-04-01        NaT           56.95   \n",
       "2  3668-QPYBK              0 2019-10-01 2019-12-01           53.85   \n",
       "3  7795-CFOCW              0 2016-05-01        NaT           42.30   \n",
       "4  9237-HQITU              0 2019-09-01 2019-11-01           70.70   \n",
       "\n",
       "   TotalCharges  BeginDate_Year  BeginDate_Month  BeginDate_Day  gender_Male  \\\n",
       "0         29.85            2020                1              1            0   \n",
       "1       1889.50            2017                4              1            1   \n",
       "2        108.15            2019               10              1            1   \n",
       "3       1840.75            2016                5              1            1   \n",
       "4        151.65            2019                9              1            0   \n",
       "\n",
       "   Partner_Yes  Dependents_Yes  Type_One year  Type_Two year  \\\n",
       "0            1               0              0              0   \n",
       "1            0               0              1              0   \n",
       "2            0               0              0              0   \n",
       "3            0               0              1              0   \n",
       "4            0               0              0              0   \n",
       "\n",
       "   PaperlessBilling_Yes  PaymentMethod_Credit card (automatic)  \\\n",
       "0                     1                                      0   \n",
       "1                     0                                      0   \n",
       "2                     1                                      0   \n",
       "3                     0                                      0   \n",
       "4                     1                                      0   \n",
       "\n",
       "   PaymentMethod_Electronic check  PaymentMethod_Mailed check  \n",
       "0                               1                           0  \n",
       "1                               0                           1  \n",
       "2                               0                           1  \n",
       "3                               0                           0  \n",
       "4                               1                           0  "
      ]
     },
     "execution_count": 62,
     "metadata": {},
     "output_type": "execute_result"
    }
   ],
   "source": [
    "personal_contract = pd.get_dummies(personal_contract, columns=['gender', 'Partner', 'Dependents', 'Type', 'PaperlessBilling', 'PaymentMethod'], drop_first=True)\n",
    "personal_contract.head()"
   ]
  },
  {
   "cell_type": "markdown",
   "id": "4e7ff275",
   "metadata": {},
   "source": [
    "**3. Membuat kolom baru (`Exited`)**\n",
    "\n",
    "Kolom ini akan dibuat sebagai kolom target untuk membedakan pengguna yang masih aktif (dapat diperpanjang) dan pengguna yang sudah tidak aktif. Sebelum itu mari panggil terlebih dahulu kelompok pengguna yang masih aktif dan yang sudah tidak aktif untuk memastikan nilai dari keduanya sama."
   ]
  },
  {
   "cell_type": "code",
   "execution_count": 63,
   "id": "c98556fd",
   "metadata": {},
   "outputs": [
    {
     "data": {
      "text/plain": [
       "((5174, 8), (1869, 8))"
      ]
     },
     "execution_count": 63,
     "metadata": {},
     "output_type": "execute_result"
    }
   ],
   "source": [
    "contract_endate_nan.shape, contract_endate_full.shape"
   ]
  },
  {
   "cell_type": "markdown",
   "id": "8bbdde9d",
   "metadata": {},
   "source": [
    "Terdapat 5174 pengguna aktif dan 1869 pengguna yang sudah tidak aktif."
   ]
  },
  {
   "cell_type": "code",
   "execution_count": 64,
   "id": "f6ad4ecd",
   "metadata": {},
   "outputs": [
    {
     "data": {
      "text/plain": [
       "0    5174\n",
       "1    1869\n",
       "Name: Exited, dtype: int64"
      ]
     },
     "execution_count": 64,
     "metadata": {},
     "output_type": "execute_result"
    }
   ],
   "source": [
    "personal_contract['Exited'] = personal_contract['EndDate'].notna().astype(int)\n",
    "personal_contract['Exited'].value_counts()"
   ]
  },
  {
   "cell_type": "markdown",
   "id": "8bf65d6a",
   "metadata": {},
   "source": [
    "Kolom `Exited` menyimpan nilai 0 untuk pengguna yang masih aktif dan 1 untuk pengguna yang sudah tidak aktif."
   ]
  },
  {
   "cell_type": "markdown",
   "id": "0cb6a50a",
   "metadata": {},
   "source": [
    "**4. Menghapus kolom-kolom yang tidak diperlukan**"
   ]
  },
  {
   "cell_type": "code",
   "execution_count": 65,
   "id": "ddbf8857",
   "metadata": {},
   "outputs": [
    {
     "data": {
      "text/html": [
       "<div>\n",
       "<style scoped>\n",
       "    .dataframe tbody tr th:only-of-type {\n",
       "        vertical-align: middle;\n",
       "    }\n",
       "\n",
       "    .dataframe tbody tr th {\n",
       "        vertical-align: top;\n",
       "    }\n",
       "\n",
       "    .dataframe thead th {\n",
       "        text-align: right;\n",
       "    }\n",
       "</style>\n",
       "<table border=\"1\" class=\"dataframe\">\n",
       "  <thead>\n",
       "    <tr style=\"text-align: right;\">\n",
       "      <th></th>\n",
       "      <th>customerID</th>\n",
       "      <th>SeniorCitizen</th>\n",
       "      <th>BeginDate</th>\n",
       "      <th>EndDate</th>\n",
       "      <th>MonthlyCharges</th>\n",
       "      <th>TotalCharges</th>\n",
       "      <th>BeginDate_Year</th>\n",
       "      <th>BeginDate_Month</th>\n",
       "      <th>BeginDate_Day</th>\n",
       "      <th>gender_Male</th>\n",
       "      <th>Partner_Yes</th>\n",
       "      <th>Dependents_Yes</th>\n",
       "      <th>Type_One year</th>\n",
       "      <th>Type_Two year</th>\n",
       "      <th>PaperlessBilling_Yes</th>\n",
       "      <th>PaymentMethod_Credit card (automatic)</th>\n",
       "      <th>PaymentMethod_Electronic check</th>\n",
       "      <th>PaymentMethod_Mailed check</th>\n",
       "      <th>Exited</th>\n",
       "    </tr>\n",
       "  </thead>\n",
       "  <tbody>\n",
       "    <tr>\n",
       "      <th>0</th>\n",
       "      <td>7590-VHVEG</td>\n",
       "      <td>0</td>\n",
       "      <td>2020-01-01</td>\n",
       "      <td>NaT</td>\n",
       "      <td>29.85</td>\n",
       "      <td>29.85</td>\n",
       "      <td>2020</td>\n",
       "      <td>1</td>\n",
       "      <td>1</td>\n",
       "      <td>0</td>\n",
       "      <td>1</td>\n",
       "      <td>0</td>\n",
       "      <td>0</td>\n",
       "      <td>0</td>\n",
       "      <td>1</td>\n",
       "      <td>0</td>\n",
       "      <td>1</td>\n",
       "      <td>0</td>\n",
       "      <td>0</td>\n",
       "    </tr>\n",
       "    <tr>\n",
       "      <th>1</th>\n",
       "      <td>5575-GNVDE</td>\n",
       "      <td>0</td>\n",
       "      <td>2017-04-01</td>\n",
       "      <td>NaT</td>\n",
       "      <td>56.95</td>\n",
       "      <td>1889.50</td>\n",
       "      <td>2017</td>\n",
       "      <td>4</td>\n",
       "      <td>1</td>\n",
       "      <td>1</td>\n",
       "      <td>0</td>\n",
       "      <td>0</td>\n",
       "      <td>1</td>\n",
       "      <td>0</td>\n",
       "      <td>0</td>\n",
       "      <td>0</td>\n",
       "      <td>0</td>\n",
       "      <td>1</td>\n",
       "      <td>0</td>\n",
       "    </tr>\n",
       "    <tr>\n",
       "      <th>2</th>\n",
       "      <td>3668-QPYBK</td>\n",
       "      <td>0</td>\n",
       "      <td>2019-10-01</td>\n",
       "      <td>2019-12-01</td>\n",
       "      <td>53.85</td>\n",
       "      <td>108.15</td>\n",
       "      <td>2019</td>\n",
       "      <td>10</td>\n",
       "      <td>1</td>\n",
       "      <td>1</td>\n",
       "      <td>0</td>\n",
       "      <td>0</td>\n",
       "      <td>0</td>\n",
       "      <td>0</td>\n",
       "      <td>1</td>\n",
       "      <td>0</td>\n",
       "      <td>0</td>\n",
       "      <td>1</td>\n",
       "      <td>1</td>\n",
       "    </tr>\n",
       "    <tr>\n",
       "      <th>3</th>\n",
       "      <td>7795-CFOCW</td>\n",
       "      <td>0</td>\n",
       "      <td>2016-05-01</td>\n",
       "      <td>NaT</td>\n",
       "      <td>42.30</td>\n",
       "      <td>1840.75</td>\n",
       "      <td>2016</td>\n",
       "      <td>5</td>\n",
       "      <td>1</td>\n",
       "      <td>1</td>\n",
       "      <td>0</td>\n",
       "      <td>0</td>\n",
       "      <td>1</td>\n",
       "      <td>0</td>\n",
       "      <td>0</td>\n",
       "      <td>0</td>\n",
       "      <td>0</td>\n",
       "      <td>0</td>\n",
       "      <td>0</td>\n",
       "    </tr>\n",
       "    <tr>\n",
       "      <th>4</th>\n",
       "      <td>9237-HQITU</td>\n",
       "      <td>0</td>\n",
       "      <td>2019-09-01</td>\n",
       "      <td>2019-11-01</td>\n",
       "      <td>70.70</td>\n",
       "      <td>151.65</td>\n",
       "      <td>2019</td>\n",
       "      <td>9</td>\n",
       "      <td>1</td>\n",
       "      <td>0</td>\n",
       "      <td>0</td>\n",
       "      <td>0</td>\n",
       "      <td>0</td>\n",
       "      <td>0</td>\n",
       "      <td>1</td>\n",
       "      <td>0</td>\n",
       "      <td>1</td>\n",
       "      <td>0</td>\n",
       "      <td>1</td>\n",
       "    </tr>\n",
       "  </tbody>\n",
       "</table>\n",
       "</div>"
      ],
      "text/plain": [
       "   customerID  SeniorCitizen  BeginDate    EndDate  MonthlyCharges  \\\n",
       "0  7590-VHVEG              0 2020-01-01        NaT           29.85   \n",
       "1  5575-GNVDE              0 2017-04-01        NaT           56.95   \n",
       "2  3668-QPYBK              0 2019-10-01 2019-12-01           53.85   \n",
       "3  7795-CFOCW              0 2016-05-01        NaT           42.30   \n",
       "4  9237-HQITU              0 2019-09-01 2019-11-01           70.70   \n",
       "\n",
       "   TotalCharges  BeginDate_Year  BeginDate_Month  BeginDate_Day  gender_Male  \\\n",
       "0         29.85            2020                1              1            0   \n",
       "1       1889.50            2017                4              1            1   \n",
       "2        108.15            2019               10              1            1   \n",
       "3       1840.75            2016                5              1            1   \n",
       "4        151.65            2019                9              1            0   \n",
       "\n",
       "   Partner_Yes  Dependents_Yes  Type_One year  Type_Two year  \\\n",
       "0            1               0              0              0   \n",
       "1            0               0              1              0   \n",
       "2            0               0              0              0   \n",
       "3            0               0              1              0   \n",
       "4            0               0              0              0   \n",
       "\n",
       "   PaperlessBilling_Yes  PaymentMethod_Credit card (automatic)  \\\n",
       "0                     1                                      0   \n",
       "1                     0                                      0   \n",
       "2                     1                                      0   \n",
       "3                     0                                      0   \n",
       "4                     1                                      0   \n",
       "\n",
       "   PaymentMethod_Electronic check  PaymentMethod_Mailed check  Exited  \n",
       "0                               1                           0       0  \n",
       "1                               0                           1       0  \n",
       "2                               0                           1       1  \n",
       "3                               0                           0       0  \n",
       "4                               1                           0       1  "
      ]
     },
     "execution_count": 65,
     "metadata": {},
     "output_type": "execute_result"
    }
   ],
   "source": [
    "data = personal_contract.copy()\n",
    "data.head()"
   ]
  },
  {
   "cell_type": "code",
   "execution_count": 66,
   "id": "9849d1bc",
   "metadata": {},
   "outputs": [
    {
     "data": {
      "text/html": [
       "<div>\n",
       "<style scoped>\n",
       "    .dataframe tbody tr th:only-of-type {\n",
       "        vertical-align: middle;\n",
       "    }\n",
       "\n",
       "    .dataframe tbody tr th {\n",
       "        vertical-align: top;\n",
       "    }\n",
       "\n",
       "    .dataframe thead th {\n",
       "        text-align: right;\n",
       "    }\n",
       "</style>\n",
       "<table border=\"1\" class=\"dataframe\">\n",
       "  <thead>\n",
       "    <tr style=\"text-align: right;\">\n",
       "      <th></th>\n",
       "      <th>SeniorCitizen</th>\n",
       "      <th>MonthlyCharges</th>\n",
       "      <th>TotalCharges</th>\n",
       "      <th>BeginDate_Year</th>\n",
       "      <th>BeginDate_Month</th>\n",
       "      <th>BeginDate_Day</th>\n",
       "      <th>gender_Male</th>\n",
       "      <th>Partner_Yes</th>\n",
       "      <th>Dependents_Yes</th>\n",
       "      <th>Type_One year</th>\n",
       "      <th>Type_Two year</th>\n",
       "      <th>PaperlessBilling_Yes</th>\n",
       "      <th>PaymentMethod_Credit card (automatic)</th>\n",
       "      <th>PaymentMethod_Electronic check</th>\n",
       "      <th>PaymentMethod_Mailed check</th>\n",
       "      <th>Exited</th>\n",
       "    </tr>\n",
       "  </thead>\n",
       "  <tbody>\n",
       "    <tr>\n",
       "      <th>3997</th>\n",
       "      <td>0</td>\n",
       "      <td>61.45</td>\n",
       "      <td>4131.20</td>\n",
       "      <td>2014</td>\n",
       "      <td>5</td>\n",
       "      <td>1</td>\n",
       "      <td>0</td>\n",
       "      <td>1</td>\n",
       "      <td>0</td>\n",
       "      <td>0</td>\n",
       "      <td>1</td>\n",
       "      <td>1</td>\n",
       "      <td>1</td>\n",
       "      <td>0</td>\n",
       "      <td>0</td>\n",
       "      <td>0</td>\n",
       "    </tr>\n",
       "    <tr>\n",
       "      <th>3717</th>\n",
       "      <td>0</td>\n",
       "      <td>48.95</td>\n",
       "      <td>1323.70</td>\n",
       "      <td>2017</td>\n",
       "      <td>9</td>\n",
       "      <td>1</td>\n",
       "      <td>1</td>\n",
       "      <td>0</td>\n",
       "      <td>0</td>\n",
       "      <td>0</td>\n",
       "      <td>0</td>\n",
       "      <td>0</td>\n",
       "      <td>0</td>\n",
       "      <td>0</td>\n",
       "      <td>0</td>\n",
       "      <td>0</td>\n",
       "    </tr>\n",
       "    <tr>\n",
       "      <th>3882</th>\n",
       "      <td>0</td>\n",
       "      <td>44.80</td>\n",
       "      <td>176.20</td>\n",
       "      <td>2019</td>\n",
       "      <td>10</td>\n",
       "      <td>1</td>\n",
       "      <td>1</td>\n",
       "      <td>0</td>\n",
       "      <td>0</td>\n",
       "      <td>0</td>\n",
       "      <td>0</td>\n",
       "      <td>1</td>\n",
       "      <td>1</td>\n",
       "      <td>0</td>\n",
       "      <td>0</td>\n",
       "      <td>0</td>\n",
       "    </tr>\n",
       "    <tr>\n",
       "      <th>2849</th>\n",
       "      <td>0</td>\n",
       "      <td>20.30</td>\n",
       "      <td>246.70</td>\n",
       "      <td>2019</td>\n",
       "      <td>2</td>\n",
       "      <td>1</td>\n",
       "      <td>0</td>\n",
       "      <td>0</td>\n",
       "      <td>0</td>\n",
       "      <td>0</td>\n",
       "      <td>0</td>\n",
       "      <td>0</td>\n",
       "      <td>0</td>\n",
       "      <td>0</td>\n",
       "      <td>1</td>\n",
       "      <td>0</td>\n",
       "    </tr>\n",
       "    <tr>\n",
       "      <th>2670</th>\n",
       "      <td>0</td>\n",
       "      <td>95.15</td>\n",
       "      <td>5000.05</td>\n",
       "      <td>2015</td>\n",
       "      <td>11</td>\n",
       "      <td>1</td>\n",
       "      <td>0</td>\n",
       "      <td>1</td>\n",
       "      <td>1</td>\n",
       "      <td>1</td>\n",
       "      <td>0</td>\n",
       "      <td>1</td>\n",
       "      <td>0</td>\n",
       "      <td>0</td>\n",
       "      <td>1</td>\n",
       "      <td>0</td>\n",
       "    </tr>\n",
       "  </tbody>\n",
       "</table>\n",
       "</div>"
      ],
      "text/plain": [
       "      SeniorCitizen  MonthlyCharges  TotalCharges  BeginDate_Year  \\\n",
       "3997              0           61.45       4131.20            2014   \n",
       "3717              0           48.95       1323.70            2017   \n",
       "3882              0           44.80        176.20            2019   \n",
       "2849              0           20.30        246.70            2019   \n",
       "2670              0           95.15       5000.05            2015   \n",
       "\n",
       "      BeginDate_Month  BeginDate_Day  gender_Male  Partner_Yes  \\\n",
       "3997                5              1            0            1   \n",
       "3717                9              1            1            0   \n",
       "3882               10              1            1            0   \n",
       "2849                2              1            0            0   \n",
       "2670               11              1            0            1   \n",
       "\n",
       "      Dependents_Yes  Type_One year  Type_Two year  PaperlessBilling_Yes  \\\n",
       "3997               0              0              1                     1   \n",
       "3717               0              0              0                     0   \n",
       "3882               0              0              0                     1   \n",
       "2849               0              0              0                     0   \n",
       "2670               1              1              0                     1   \n",
       "\n",
       "      PaymentMethod_Credit card (automatic)  PaymentMethod_Electronic check  \\\n",
       "3997                                      1                               0   \n",
       "3717                                      0                               0   \n",
       "3882                                      1                               0   \n",
       "2849                                      0                               0   \n",
       "2670                                      0                               0   \n",
       "\n",
       "      PaymentMethod_Mailed check  Exited  \n",
       "3997                           0       0  \n",
       "3717                           0       0  \n",
       "3882                           0       0  \n",
       "2849                           1       0  \n",
       "2670                           1       0  "
      ]
     },
     "execution_count": 66,
     "metadata": {},
     "output_type": "execute_result"
    }
   ],
   "source": [
    "data = data.drop(['customerID', 'BeginDate', 'EndDate'], axis=1)\n",
    "data.sample(5)"
   ]
  },
  {
   "cell_type": "code",
   "execution_count": 67,
   "id": "6a9cbaec",
   "metadata": {},
   "outputs": [
    {
     "name": "stdout",
     "output_type": "stream",
     "text": [
      "<class 'pandas.core.frame.DataFrame'>\n",
      "Int64Index: 7043 entries, 0 to 7042\n",
      "Data columns (total 16 columns):\n",
      " #   Column                                 Non-Null Count  Dtype  \n",
      "---  ------                                 --------------  -----  \n",
      " 0   SeniorCitizen                          7043 non-null   int64  \n",
      " 1   MonthlyCharges                         7043 non-null   float64\n",
      " 2   TotalCharges                           7043 non-null   float64\n",
      " 3   BeginDate_Year                         7043 non-null   int64  \n",
      " 4   BeginDate_Month                        7043 non-null   int64  \n",
      " 5   BeginDate_Day                          7043 non-null   int64  \n",
      " 6   gender_Male                            7043 non-null   uint8  \n",
      " 7   Partner_Yes                            7043 non-null   uint8  \n",
      " 8   Dependents_Yes                         7043 non-null   uint8  \n",
      " 9   Type_One year                          7043 non-null   uint8  \n",
      " 10  Type_Two year                          7043 non-null   uint8  \n",
      " 11  PaperlessBilling_Yes                   7043 non-null   uint8  \n",
      " 12  PaymentMethod_Credit card (automatic)  7043 non-null   uint8  \n",
      " 13  PaymentMethod_Electronic check         7043 non-null   uint8  \n",
      " 14  PaymentMethod_Mailed check             7043 non-null   uint8  \n",
      " 15  Exited                                 7043 non-null   int32  \n",
      "dtypes: float64(2), int32(1), int64(4), uint8(9)\n",
      "memory usage: 474.6 KB\n"
     ]
    }
   ],
   "source": [
    "data.info()"
   ]
  },
  {
   "cell_type": "code",
   "execution_count": 68,
   "id": "2665e9f8",
   "metadata": {},
   "outputs": [
    {
     "data": {
      "text/plain": [
       "SeniorCitizen                            0\n",
       "MonthlyCharges                           0\n",
       "TotalCharges                             0\n",
       "BeginDate_Year                           0\n",
       "BeginDate_Month                          0\n",
       "BeginDate_Day                            0\n",
       "gender_Male                              0\n",
       "Partner_Yes                              0\n",
       "Dependents_Yes                           0\n",
       "Type_One year                            0\n",
       "Type_Two year                            0\n",
       "PaperlessBilling_Yes                     0\n",
       "PaymentMethod_Credit card (automatic)    0\n",
       "PaymentMethod_Electronic check           0\n",
       "PaymentMethod_Mailed check               0\n",
       "Exited                                   0\n",
       "dtype: int64"
      ]
     },
     "execution_count": 68,
     "metadata": {},
     "output_type": "execute_result"
    }
   ],
   "source": [
    "data.isna().sum()"
   ]
  },
  {
   "cell_type": "code",
   "execution_count": 69,
   "id": "3fd782d9",
   "metadata": {},
   "outputs": [],
   "source": [
    "class_distribution = data['Exited'].value_counts() / data.shape[0] * 100"
   ]
  },
  {
   "cell_type": "code",
   "execution_count": 70,
   "id": "1ee60748",
   "metadata": {},
   "outputs": [
    {
     "data": {
      "image/png": "[encoded data removed]",
      "text/plain": [
       "<Figure size 800x600 with 1 Axes>"
      ]
     },
     "metadata": {},
     "output_type": "display_data"
    },
    {
     "name": "stdout",
     "output_type": "stream",
     "text": [
      "Persentase Kelas Distribusi `Exited`:\n",
      "0    73.463013\n",
      "1    26.536987\n",
      "Name: Exited, dtype: float64\n"
     ]
    }
   ],
   "source": [
    "plt.figure(figsize=(8,6))\n",
    "sns.countplot(x='Exited', data=data)\n",
    "plt.title('Distribusi Kelas `Exited`')\n",
    "plt.xlabel('1 - jika Tidak aktif; 0 - Aktif')\n",
    "plt.ylabel('Jumlah')\n",
    "plt.show()\n",
    "print('Persentase Kelas Distribusi `Exited`:')\n",
    "print(class_distribution)"
   ]
  },
  {
   "cell_type": "markdown",
   "id": "e6486917",
   "metadata": {},
   "source": [
    "**Catatan**\n",
    "\n",
    "Dari preparing data yang telah dilakukan, didapat beberapa catatan diantaranya:\n",
    "1. Dataset yang akan digunakan untuk paltihan model adalah contract dan personal.\n",
    "2. Missing value pada dataset contract kolom `TotalCharges` diisi dengan median dari kolom tersebut.\n",
    "3. Dataset contract dan personal digabungkan menggunakan merge() sesuai dengan kolom customerID\n",
    "4. Memperkaya dataset dengan beberapa cara:\n",
    "    - Menambah kolom month, year, day berdasarkan kolom BeginDate\n",
    "\t- Membuat One-hot Endcoder pada beberapa kolom yang diperlukan\n",
    "\t- Membuat kolom baru dengan tujuna membedakan antara pengguna aktif dan juga tidak aktif.\n",
    "5. Grafik class distribusi menyatakan bahwa terdapat 73.5% pengguna aktif dan juga 26.5% pengguna yang tidak aktif."
   ]
  },
  {
   "cell_type": "markdown",
   "id": "881e632a",
   "metadata": {},
   "source": [
    "# Pemodelan"
   ]
  },
  {
   "cell_type": "markdown",
   "id": "74395a5a",
   "metadata": {},
   "source": [
    "Import library untuk pelatihan model"
   ]
  },
  {
   "cell_type": "code",
   "execution_count": 71,
   "id": "f31d8468",
   "metadata": {},
   "outputs": [],
   "source": [
    "# model\n",
    "from sklearn.tree import DecisionTreeClassifier\n",
    "from sklearn.ensemble import RandomForestClassifier\n",
    "from sklearn.linear_model import LogisticRegression\n",
    "\n",
    "# split data\n",
    "from sklearn.model_selection import train_test_split\n",
    "\n",
    "# metric\n",
    "from sklearn.metrics import accuracy_score\n",
    "from sklearn.metrics import roc_auc_score\n",
    "\n",
    "from sklearn.utils import shuffle"
   ]
  },
  {
   "cell_type": "markdown",
   "id": "00c2a051",
   "metadata": {},
   "source": [
    "Sebelum melakukan pelatihan, mari bagi dataset yang ada menjadi 3 bagian yaitu: train_set, validation_set, dan test_set."
   ]
  },
  {
   "cell_type": "code",
   "execution_count": 72,
   "id": "a3e6be53",
   "metadata": {},
   "outputs": [
    {
     "data": {
      "text/plain": [
       "((5704, 16), (634, 16), (705, 16))"
      ]
     },
     "execution_count": 72,
     "metadata": {},
     "output_type": "execute_result"
    }
   ],
   "source": [
    "# Split dataset \n",
    "train_valid, test = train_test_split(data, test_size=0.1) \n",
    "train, valid = train_test_split(train_valid, test_size=0.1) \n",
    "\n",
    "train.shape, valid.shape, test.shape"
   ]
  },
  {
   "cell_type": "code",
   "execution_count": 73,
   "id": "9a3058bd",
   "metadata": {},
   "outputs": [],
   "source": [
    "# training set, validation set, dan test set.\n",
    "\n",
    "features_train = train.drop(['Exited'], axis=1)\n",
    "target_train = train['Exited']\n",
    "\n",
    "features_valid = valid.drop(['Exited'], axis=1)\n",
    "target_valid = valid['Exited']\n",
    "\n",
    "features_test = test.drop(['Exited'], axis=1)\n",
    "target_test = test['Exited']"
   ]
  },
  {
   "cell_type": "code",
   "execution_count": 74,
   "id": "bea0504a",
   "metadata": {},
   "outputs": [
    {
     "name": "stdout",
     "output_type": "stream",
     "text": [
      "(5704, 15) (5704,)\n",
      "(634, 15) (634,)\n",
      "(705, 15) (705,)\n"
     ]
    }
   ],
   "source": [
    "print(features_train.shape, target_train.shape)\n",
    "print(features_valid.shape, target_valid.shape)\n",
    "print(features_test.shape, target_test.shape)"
   ]
  },
  {
   "cell_type": "markdown",
   "id": "21d8b675",
   "metadata": {},
   "source": [
    "Pada tahap ini pelatihan model akan menggunakan beberapa model agar dapat dibandingkan model mana yang memiliki nilai terbaik. Model yang akan digunakan pada penelitian kali ini yaitu:\n",
    "\n",
    "- Logistic Regression.\n",
    "- Decision Tree Classifier.\n",
    "- Random Forest Classifier."
   ]
  },
  {
   "cell_type": "markdown",
   "id": "af22919c",
   "metadata": {},
   "source": [
    "**1. Logistic Regression**"
   ]
  },
  {
   "cell_type": "code",
   "execution_count": 75,
   "id": "c6b16c3a",
   "metadata": {},
   "outputs": [
    {
     "name": "stdout",
     "output_type": "stream",
     "text": [
      "Penalty: l1\n",
      "Accuracy Score: 0.7886435331230284\n",
      "AUC-ROC: 0.8233166684395277\n",
      "__________________________\n",
      "Penalty: l2\n",
      "Accuracy Score: 0.7870662460567823\n",
      "AUC-ROC: 0.8216014253802787\n",
      "__________________________\n"
     ]
    }
   ],
   "source": [
    "# Model Logistic Regression\n",
    "list_penalty = ['l1', 'l2']\n",
    "for penalty in list_penalty:\n",
    "    model_logreg = LogisticRegression(random_state=12345, penalty=penalty, solver='liblinear')\n",
    "    model_logreg.fit(features_train, target_train)\n",
    "\n",
    "    predicted_model = model_logreg.predict(features_valid)\n",
    "    probabilities_valid = model_logreg.predict_proba(features_valid)[:, 1]\n",
    "\n",
    "    print('Penalty:', penalty)\n",
    "    print('Accuracy Score:', accuracy_score(target_valid, predicted_model))\n",
    "    print('AUC-ROC:', roc_auc_score(target_valid, probabilities_valid))\n",
    "    print('__________________________')"
   ]
  },
  {
   "cell_type": "markdown",
   "id": "9df2664a",
   "metadata": {},
   "source": [
    "**2. Decision Tree Classifier**"
   ]
  },
  {
   "cell_type": "code",
   "execution_count": 76,
   "id": "9d9da316",
   "metadata": {},
   "outputs": [
    {
     "name": "stdout",
     "output_type": "stream",
     "text": [
      "max_depth: 1\n",
      "Accuracy Score: 0.750788643533123\n",
      "ROC: 0.6470189341559409\n",
      "______________________________\n",
      "max_depth: 2\n",
      "Accuracy Score: 0.750788643533123\n",
      "ROC: 0.7411578555472822\n",
      "______________________________\n",
      "max_depth: 4\n",
      "Accuracy Score: 0.7839116719242902\n",
      "ROC: 0.8088634187852356\n",
      "______________________________\n",
      "max_depth: 6\n",
      "Accuracy Score: 0.8107255520504731\n",
      "ROC: 0.856271939155409\n",
      "______________________________\n",
      "max_depth: 8\n",
      "Accuracy Score: 0.8296529968454258\n",
      "ROC: 0.8574287309860652\n",
      "______________________________\n"
     ]
    }
   ],
   "source": [
    "# Model Decision Tree Classifier\n",
    "list_max_depth = [1,2,4,6,8]\n",
    "\n",
    "for depth in list_max_depth:\n",
    "    model_Dtree = DecisionTreeClassifier(random_state=12345, max_depth=depth)\n",
    "    model_Dtree.fit(features_train, target_train)\n",
    "    \n",
    "    predicted_model = model_Dtree.predict(features_valid)\n",
    "    probabilities_valid = model_Dtree.predict_proba(features_valid)[:, 1]\n",
    "\n",
    "    print('max_depth:', depth)\n",
    "    print('Accuracy Score:', accuracy_score(target_valid, predicted_model))\n",
    "    print('ROC:', roc_auc_score(target_valid, probabilities_valid))\n",
    "    print('______________________________')\n",
    "    "
   ]
  },
  {
   "cell_type": "markdown",
   "id": "b388f2f4",
   "metadata": {},
   "source": [
    "**3. Random Forest Classifier**"
   ]
  },
  {
   "cell_type": "code",
   "execution_count": 77,
   "id": "37efc979",
   "metadata": {},
   "outputs": [
    {
     "name": "stdout",
     "output_type": "stream",
     "text": [
      "n_estimators: 10\n",
      "Accuracy Score: 0.8107255520504731\n",
      "AUC-ROC: 0.8511062652909265\n",
      "_____________________________\n",
      "n_estimators: 20\n",
      "Accuracy Score: 0.8249211356466877\n",
      "AUC-ROC: 0.8596492394426125\n",
      "_____________________________\n",
      "n_estimators: 30\n",
      "Accuracy Score: 0.831230283911672\n",
      "AUC-ROC: 0.8716891820019146\n",
      "_____________________________\n",
      "n_estimators: 40\n",
      "Accuracy Score: 0.8375394321766562\n",
      "AUC-ROC: 0.8716958302308264\n",
      "_____________________________\n",
      "n_estimators: 50\n",
      "Accuracy Score: 0.832807570977918\n",
      "AUC-ROC: 0.8720548345920647\n",
      "_____________________________\n",
      "n_estimators: 60\n",
      "Accuracy Score: 0.8359621451104101\n",
      "AUC-ROC: 0.8742686948197\n",
      "_____________________________\n",
      "n_estimators: 70\n",
      "Accuracy Score: 0.8375394321766562\n",
      "AUC-ROC: 0.8742819912775237\n",
      "_____________________________\n",
      "n_estimators: 80\n",
      "Accuracy Score: 0.8359621451104101\n",
      "AUC-ROC: 0.8741556749281992\n",
      "_____________________________\n",
      "n_estimators: 90\n",
      "Accuracy Score: 0.8359621451104101\n",
      "AUC-ROC: 0.8725002659291565\n",
      "_____________________________\n",
      "n_estimators: 100\n",
      "Accuracy Score: 0.832807570977918\n",
      "AUC-ROC: 0.8713634187852356\n",
      "_____________________________\n"
     ]
    }
   ],
   "source": [
    "# Model Random Forest Classifier\n",
    "range_estimators = range(10, 101, 10)\n",
    "\n",
    "for esti in range_estimators:\n",
    "    model_Rforest = RandomForestClassifier(random_state=12345, n_estimators=esti)\n",
    "    model_Rforest.fit(features_train, target_train)\n",
    "\n",
    "    predicted_model = model_Rforest.predict(features_valid)\n",
    "    probabilities_valid = model_Rforest.predict_proba(features_valid)[:, 1]\n",
    "\n",
    "    print('n_estimators:', esti)\n",
    "    print('Accuracy Score:', accuracy_score(target_valid, predicted_model))\n",
    "    print('AUC-ROC:', roc_auc_score(target_valid, probabilities_valid))\n",
    "    print('_____________________________')"
   ]
  },
  {
   "cell_type": "markdown",
   "id": "9fce2037",
   "metadata": {},
   "source": [
    "**Catatan**\n",
    "\n",
    "Dari ketiga model yang dilatih, didapat model dengan nilai AUC_ROC terbaik adalah Random Forest Classifier dengan n_estimators 100. Untuk nilai yang didapat adalah :\n",
    "- Accuracy Score = 0.8328\n",
    "- AUC-ROC: 0.8713"
   ]
  },
  {
   "cell_type": "markdown",
   "id": "fc2eaaaf",
   "metadata": {},
   "source": [
    "# Pengujian Terakhir"
   ]
  },
  {
   "cell_type": "markdown",
   "id": "8b346e52",
   "metadata": {},
   "source": [
    "Mari tampilkan kembali model Random Forest Classifier dengan n_estimators 100."
   ]
  },
  {
   "cell_type": "code",
   "execution_count": 79,
   "id": "b0bdb6fd",
   "metadata": {},
   "outputs": [
    {
     "name": "stdout",
     "output_type": "stream",
     "text": [
      "n_estimators: 100\n",
      "Accuracy Score: 0.832807570977918\n",
      "AUC-ROC: 0.8713634187852356\n",
      "_____________________________\n"
     ]
    }
   ],
   "source": [
    "model_final = RandomForestClassifier(random_state=12345, n_estimators=100)\n",
    "model_final.fit(features_train, target_train)\n",
    "\n",
    "predicted_model = model_final.predict(features_valid)\n",
    "probabilities_valid = model_final.predict_proba(features_valid)[:, 1]\n",
    "\n",
    "print('n_estimators:', 100)\n",
    "print('Accuracy Score:', accuracy_score(target_valid, predicted_model))\n",
    "print('AUC-ROC:', roc_auc_score(target_valid, probabilities_valid))\n",
    "print('_____________________________')"
   ]
  },
  {
   "cell_type": "markdown",
   "id": "ed357a63",
   "metadata": {},
   "source": [
    "Pengujian terakhir yaitu menggunakan test set."
   ]
  },
  {
   "cell_type": "code",
   "execution_count": 80,
   "id": "5062589c",
   "metadata": {},
   "outputs": [
    {
     "name": "stdout",
     "output_type": "stream",
     "text": [
      "n_estimators: 100\n",
      "Accuracy Score: 0.8539007092198582\n",
      "AUC-ROC: 0.8866995073891625\n",
      "_____________________________\n"
     ]
    }
   ],
   "source": [
    "predicted_model_test = model_final.predict(features_test)\n",
    "probabilities_test = model_final.predict_proba(features_test)[:, 1]\n",
    "\n",
    "print('n_estimators:', 100)\n",
    "print('Accuracy Score:', accuracy_score(target_test, predicted_model_test))\n",
    "print('AUC-ROC:', roc_auc_score(target_test, probabilities_test))\n",
    "print('_____________________________')"
   ]
  },
  {
   "cell_type": "markdown",
   "id": "9ba216da",
   "metadata": {},
   "source": [
    "Hasil yang didapat dari model Random Forest Classifier dengan n_estimators 100 pada test set adalah:\n",
    "- Accuracy Score: 0.8539\n",
    "- AUC-ROC: 0.8866"
   ]
  },
  {
   "cell_type": "markdown",
   "id": "ce45a89f",
   "metadata": {},
   "source": [
    "# Kesimpulan Umum"
   ]
  },
  {
   "cell_type": "code",
   "execution_count": 112,
   "id": "e82b50bb",
   "metadata": {},
   "outputs": [
    {
     "name": "stdout",
     "output_type": "stream",
     "text": [
      "Pengguna Telepon: 6361 User\n",
      "Pengguna Internet: 5517 User\n"
     ]
    }
   ],
   "source": [
    "print('Pengguna Telepon:', phone['customerID'].count(), 'User')\n",
    "print('Pengguna Internet:', internet['customerID'].count(), 'User')"
   ]
  },
  {
   "cell_type": "markdown",
   "id": "20788ac4",
   "metadata": {},
   "source": [
    "Dari langkah-langkah yang telah dilakukan didapat kesimpulan sebagai berikut:\n",
    "1. Terdapat Pengguna Telepon sebanyak 6361 user, dengan 2971 user menggunakan multiplelines dan 3390 user yang tidak menggunakan multiplelines. \n",
    "2. Terdapat Pengguna Internet sebanyak 5517 User, dengan 3096 user menggunakan Fiber optic sebagai jaringanya dan 2421 user menggunakan DSL sebagai jaringannya.\n",
    "3. Terdapat 5174 user pengguna aktif dan 1869 pengguna yang sudah tidak aktif.\n",
    "4. Persebaran data untuk pembayaran bulanan pengguna aktif berada pada 20-120 dengan persentil 25%: 25 USD dan 75%: 88 USD. Untuk persebaran data pembayaran bulanan pengguna tidak aktif berada pada 20-120 dengan persentil 25%: 56 USD dan 75%: 94 USD. Pengguna aktif rata-rata memiliki pembayaran bulan sebesar 61 USD sedangkan rata-rata pengguna tidak aktif sebesar 74 USD.\n",
    "5. Pelatihan model menggunakan 3 model yang berbeda yaitu Logistic Regression, Decision Tree Classifier, Random Forest Classifier.\n",
    "6. Model dengan nilai AUC-ROC terbaik adalah model Random Forest Classifier dengan n_estimators 100.\n",
    "7. Pengujian terakhir dilakukan pada test set dan didapat hasil sebagai berikut:\n",
    "    - Accuracy Score: 0.8539\n",
    "    - AUC-ROC: 0.8866"
   ]
  },
  {
   "cell_type": "code",
   "execution_count": null,
   "id": "97fd44be",
   "metadata": {},
   "outputs": [],
   "source": []
  }
 ],
 "metadata": {
  "kernelspec": {
   "display_name": "Python 3 (ipykernel)",
   "language": "python",
   "name": "python3"
  },
  "language_info": {
   "codemirror_mode": {
    "name": "ipython",
    "version": 3
   },
   "file_extension": ".py",
   "mimetype": "text/x-python",
   "name": "python",
   "nbconvert_exporter": "python",
   "pygments_lexer": "ipython3",
   "version": "3.11.4"
  },
  "toc": {
   "base_numbering": 1,
   "nav_menu": {},
   "number_sections": true,
   "sideBar": true,
   "skip_h1_title": true,
   "title_cell": "Table of Contents",
   "title_sidebar": "Contents",
   "toc_cell": false,
   "toc_position": {},
   "toc_section_display": true,
   "toc_window_display": false
  }
 },
 "nbformat": 4,
 "nbformat_minor": 5
}
