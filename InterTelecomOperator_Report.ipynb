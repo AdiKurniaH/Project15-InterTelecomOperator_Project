{
 "cells": [
  {
   "cell_type": "markdown",
   "id": "f05af994",
   "metadata": {},
   "source": [
    "# Laporan Tugas"
   ]
  },
  {
   "cell_type": "markdown",
   "id": "68d73f8a",
   "metadata": {},
   "source": [
    "Laporan tugas ini dibuat berdasarkan apa yang telah dilakukan pada saat melakukan analisis data Telekomunikasi Interkoneksi. Laporan ini pertujuan untuk menjelaskan apa saja yang telah dilakukan pada saat analisis dan juga pelatihan model. Laporan ini akan ditinjau oleh team leader jika memang masih ditemukan hal-hal yang meragukan.󠀲󠀡󠀠󠀥󠀨󠀢󠀦󠀢󠀳 "
   ]
  },
  {
   "cell_type": "markdown",
   "id": "edb5ea87",
   "metadata": {},
   "source": [
    "Ada pun beberapa pertanyaan yang harus disertakan jawaban berdasarkan apa yang telah dilakukan, pertanyaan-pertanyaan yang dimaksud adalah sebagai berikut:\n",
    "󠀰\n",
    "1. Berdasarkan rencana kerja, langkah-langkah apa saja yang telah kamu lakukan dan langkah-langkah apa saja yang kamu lewati (jelaskan alasannya)?󠀲󠀡󠀠󠀥󠀨󠀢󠀦󠀤󠀳\n",
    "2. Kesulitan apa saja yang kamu temui dan bagaimana kamu mengatasinya?󠀲󠀡󠀠󠀥󠀨󠀢󠀦󠀥󠀳\n",
    "3. Langkah kunci apa saja yang kamu lakukan untuk menyelesaikan tugas ini?󠀲󠀡󠀠󠀥󠀨󠀢󠀦󠀦󠀳\n",
    "4. Apa model akhirmu dan berapa skor kualitasnya?"
   ]
  },
  {
   "cell_type": "markdown",
   "id": "16904470",
   "metadata": {},
   "source": [
    "# Petanyaan pertama \n",
    "Berdasarkan rencana kerja, langkah-langkah apa saja yang telah kamu lakukan dan langkah-langkah apa saja yang kamu lewati (jelaskan alasannya)?󠀲󠀡󠀠󠀥󠀨󠀢󠀦󠀤󠀳\n"
   ]
  },
  {
   "cell_type": "markdown",
   "id": "22936073",
   "metadata": {},
   "source": [
    "Langkah-langkah pertama yang dilakukan yaitu:\n",
    "1. Import Library yang dibutuhkan\n",
    "2. Membuat sebuah fungsi untuk memuat dataset yang ada, ini dilakukan untuk memudahkan pada saat memuat dataset.\n",
    "3. Membuat sebuah fungsi untuk checking data pada ke 4 dataset yang ada.\n",
    "4. Melakukan Eksplorasi data pada ke 4 dataset. adapun point-point yang dilakuaknpada saat ekplorasi data adalah, sebagai berikut:\n",
    "    1. Dataset ke-1\n",
    "    - Mencari tahu berapa banyak pengguna telepon serta mengetahui berapa banyak pengguna telepon yang memilih mulptiplelines dan yang tidak memiliki multilplelines serta memvisualisasikannya.\n",
    "    2. Dataset ke-2\n",
    "    - Mencari tahu berapa banyak pengguna internet serta mengetahui berapa banyak pengguna yang memilh Fiber Optic dan DSL sebagai jaringan yang digunakan serta menvisualisasikannya.\n",
    "    3. Dataset ke-3\n",
    "    - Mengetahui berapa banyak pengguna secara keseluruhan\n",
    "    - Meruba tipe data pada kolom `BeginDate` dan `EndDate` ke tipe data datetime.\n",
    "    - Membagi data ke 2 kelompok yaitu kelompok pengguna akitif dan kelompok pengguna tidak aktif.\n",
    "    - Memvisualisasikan kolom `MonthlyCharges` berdasarkan pengguna aktid dan pengguna tidak aktif, ini pertujuan untuk membandingkan keduanya.\n",
    "    - Mencari tahu persebaran data dari kedua kelompok tersebut.\n",
    "    - Mencari tahu berapa banyak pengguna berdasarkan tipe waktu pembayaran serta menvisualisasikannya.\n",
    "    - Mencari tahu berapa banyak pengguna berdasarkan metode pembayarannya serta menvisualisasikannya.\n",
    "    - Mencari tahu persebaran data dari kolom `MonthlyCharges` dan `TotalCharges` serta menvisualisasikannya. Ini bertujuan untuk membandingakn antara keduanya\n",
    "    4. Dataset ke-4\n",
    "    - Mencari tahu berapa banyak penguna berdasarkan gendernya serta menvisualisasikannya.\n",
    "    - Mencari tahu berapa banyak penguna berdasarkan SeniorCitizen serta menvisualisasikannya.\n",
    "    - Mencari tahu berapa banyak penguna berdasarkan Partner dan Dependents serta menvisualisasikannya.\n",
    "    \n"
   ]
  },
  {
   "cell_type": "markdown",
   "id": "e4ddbe81",
   "metadata": {},
   "source": [
    "# Petanyaan Kedua"
   ]
  },
  {
   "cell_type": "markdown",
   "id": "b9098c78",
   "metadata": {},
   "source": [
    "Kesulitan apa saja yang kamu temui dan bagaimana kamu mengatasinya?󠀲󠀡󠀠󠀥󠀨󠀢󠀦󠀥󠀳"
   ]
  },
  {
   "cell_type": "markdown",
   "id": "e1b8b7ff",
   "metadata": {},
   "source": [
    "Ada kesulita yang ada pada saata proses analisis yaitu Sulit memahami arti atau maksud dari beberapa kolom yang ada pada dataset. Untuk mengatasinya saya mencoba menitipkan beberapa pertanyaan pada saat rencana kerja di submit.  "
   ]
  },
  {
   "cell_type": "markdown",
   "id": "785878b4",
   "metadata": {},
   "source": [
    "# Pertanyaan Ketiga\n",
    "Langkah kunci apa saja yang kamu lakukan untuk menyelesaikan tugas ini?󠀲󠀡󠀠󠀥󠀨󠀢󠀦󠀦󠀳"
   ]
  },
  {
   "cell_type": "markdown",
   "id": "1afa3f4c",
   "metadata": {},
   "source": [
    "Adapun beberapa langkah kunci yang dilakukan pada saat analisis adalah, sebagai berikut:\n",
    "1. Menitipkan beberapa pertanyaan pada saat submit di rencana kerja adalah langkah kunci pertama bagi saya. Dari jawaban yang diberikan saya mendapatkan beberapa jawaban atas pertanyaan-pertanyaan yang ada terkait maksud dari beebrapa kolom pada dataset yang ada.\n",
    "2. Menemukan missing value pada kolom `EndDate` di dataset contract. Missing value ini maksudnya adalah pengguna yang masih aktif sedangkan yang bukan missing value itulah pengguna yang sudah tidak aktif.\n",
    "3. Menemukan missing value pada kolom `MonthlyCharges` di dataset contract. Missing value ini ternyata pada saat checking tidak terlihat karena tipe data pada kolom ini adalah object atau string. Pada tipe data dirubah barulah terlihat bahwa ada 11 mising value pada kolom ini. Untuk mengatasi missing value pada kolom ini saya menggunakan nilai median berdarakan kolom ini. Memilih nilai median untuk mengisi missing value dirasa cukup aman mengingat missing value yang ada hanya 11.\n",
    "4. Pada saat proses pelatihan model saya ingin menggunakan Metode Upsampling dan Downsampling. Namun langkah ini tidak jadi dilakukan karena pada saat saya mencoba menggunaknnya, nilai AUC-ROC dari Upsampling dan Downsampling mengahsilkan nilai yang tidak cukup baik dibandingkan dengan model-model yang telah dilakukan sebelumnya. Jadi saya menghapus kedua metode tersebut dan hanya menggunakan 3 model saja untuk pelatihan.\n"
   ]
  },
  {
   "cell_type": "markdown",
   "id": "10e3d15c",
   "metadata": {},
   "source": [
    "# Pertanyaan Keempat\n",
    "Apa model akhirmu dan berapa skor kualitasnya?"
   ]
  },
  {
   "cell_type": "markdown",
   "id": "4f445af0",
   "metadata": {},
   "source": [
    "Saya mencoba 3 model yang berbeda yaitu Logistic Regression, Decision Tree Classifier, Random Forest Classifier. Model dengan nilai AUC-ROC terbaik adalah model Random Forest Classifier dengan n_estimators 100. Pengujian terakhir dilakukan pada test set dan didapat hasil sebagai berikut:\n",
    "    - Accuracy Score: 0.8539\n",
    "    - AUC-ROC: 0.8866"
   ]
  },
  {
   "cell_type": "code",
   "execution_count": null,
   "id": "0680217c",
   "metadata": {},
   "outputs": [],
   "source": []
  }
 ],
 "metadata": {
  "kernelspec": {
   "display_name": "Python 3 (ipykernel)",
   "language": "python",
   "name": "python3"
  },
  "language_info": {
   "codemirror_mode": {
    "name": "ipython",
    "version": 3
   },
   "file_extension": ".py",
   "mimetype": "text/x-python",
   "name": "python",
   "nbconvert_exporter": "python",
   "pygments_lexer": "ipython3",
   "version": "3.11.4"
  },
  "toc": {
   "base_numbering": 1,
   "nav_menu": {},
   "number_sections": true,
   "sideBar": true,
   "skip_h1_title": true,
   "title_cell": "Table of Contents",
   "title_sidebar": "Contents",
   "toc_cell": false,
   "toc_position": {},
   "toc_section_display": true,
   "toc_window_display": false
  }
 },
 "nbformat": 4,
 "nbformat_minor": 5
}
